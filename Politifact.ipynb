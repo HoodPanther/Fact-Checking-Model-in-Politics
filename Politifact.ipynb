{
 "cells": [
  {
   "cell_type": "code",
   "execution_count": 1,
   "metadata": {
    "collapsed": true
   },
   "outputs": [],
   "source": [
    "import nltk"
   ]
  },
  {
   "cell_type": "code",
   "execution_count": 7,
   "metadata": {
    "collapsed": false
   },
   "outputs": [],
   "source": [
    "import pandas as pd"
   ]
  },
  {
   "cell_type": "code",
   "execution_count": 9,
   "metadata": {
    "collapsed": false
   },
   "outputs": [],
   "source": [
    "df = pd.read_csv('C:\\Users\\mohit\\Desktop\\Spring BIA\\Web Analytics\\Politifact\\politifact.csv')"
   ]
  },
  {
   "cell_type": "code",
   "execution_count": 11,
   "metadata": {
    "collapsed": true
   },
   "outputs": [],
   "source": [
    "del df['Unnamed: 0']"
   ]
  },
  {
   "cell_type": "code",
   "execution_count": 13,
   "metadata": {
    "collapsed": true
   },
   "outputs": [],
   "source": [
    "df.columns = ['source','text','label']"
   ]
  },
  {
   "cell_type": "code",
   "execution_count": 18,
   "metadata": {
    "collapsed": false
   },
   "outputs": [
    {
     "data": {
      "text/plain": [
       "(3880, 3)"
      ]
     },
     "execution_count": 18,
     "metadata": {},
     "output_type": "execute_result"
    }
   ],
   "source": [
    "df.shape"
   ]
  },
  {
   "cell_type": "code",
   "execution_count": 14,
   "metadata": {
    "collapsed": false
   },
   "outputs": [
    {
     "data": {
      "text/html": [
       "<div>\n",
       "<table border=\"1\" class=\"dataframe\">\n",
       "  <thead>\n",
       "    <tr style=\"text-align: right;\">\n",
       "      <th></th>\n",
       "      <th>source</th>\n",
       "      <th>text</th>\n",
       "      <th>label</th>\n",
       "    </tr>\n",
       "  </thead>\n",
       "  <tbody>\n",
       "    <tr>\n",
       "      <th>0</th>\n",
       "      <td>Pat McCrory</td>\n",
       "      <td>\"The city of Charlotte passed a bathroom ordin...</td>\n",
       "      <td>Mostly False</td>\n",
       "    </tr>\n",
       "    <tr>\n",
       "      <th>1</th>\n",
       "      <td>Hillary Clinton</td>\n",
       "      <td>In nine Democratic debates, \"We've not had one...</td>\n",
       "      <td>True</td>\n",
       "    </tr>\n",
       "    <tr>\n",
       "      <th>2</th>\n",
       "      <td>Hillary Clinton</td>\n",
       "      <td>The Republicans \"still want to privatize (Soci...</td>\n",
       "      <td>Mostly False</td>\n",
       "    </tr>\n",
       "    <tr>\n",
       "      <th>3</th>\n",
       "      <td>Bernie Sanders</td>\n",
       "      <td>\"When this campaign began, I said that weve go...</td>\n",
       "      <td>Mostly True</td>\n",
       "    </tr>\n",
       "    <tr>\n",
       "      <th>4</th>\n",
       "      <td>Hillary Clinton</td>\n",
       "      <td>Says Bernie Sanders \"has been largely a very r...</td>\n",
       "      <td>Mostly False</td>\n",
       "    </tr>\n",
       "    <tr>\n",
       "      <th>5</th>\n",
       "      <td>Bernie Sanders</td>\n",
       "      <td>\"I remain one of the poorer members of the Uni...</td>\n",
       "      <td>Mostly True</td>\n",
       "    </tr>\n",
       "    <tr>\n",
       "      <th>6</th>\n",
       "      <td>Hillary Clinton</td>\n",
       "      <td>\"We have tougher standards holding toy gun man...</td>\n",
       "      <td>Half-True</td>\n",
       "    </tr>\n",
       "    <tr>\n",
       "      <th>7</th>\n",
       "      <td>Jeff Bridges</td>\n",
       "      <td>\"Every bit of plastic that has ever been creat...</td>\n",
       "      <td>False</td>\n",
       "    </tr>\n",
       "    <tr>\n",
       "      <th>8</th>\n",
       "      <td>Donald Trump</td>\n",
       "      <td>\"My numbers are better right now than Ronald R...</td>\n",
       "      <td>False</td>\n",
       "    </tr>\n",
       "    <tr>\n",
       "      <th>9</th>\n",
       "      <td>Bernie Sanders</td>\n",
       "      <td>Says Hillary Clinton supported and continues t...</td>\n",
       "      <td>Mostly True</td>\n",
       "    </tr>\n",
       "    <tr>\n",
       "      <th>10</th>\n",
       "      <td>Hillary Clinton</td>\n",
       "      <td>\"The state that has the highest per capita num...</td>\n",
       "      <td>Half-True</td>\n",
       "    </tr>\n",
       "    <tr>\n",
       "      <th>11</th>\n",
       "      <td>Ted Cruz</td>\n",
       "      <td>\"Poll after poll after poll shows me beating H...</td>\n",
       "      <td>Mostly False</td>\n",
       "    </tr>\n",
       "    <tr>\n",
       "      <th>12</th>\n",
       "      <td>Tom Price</td>\n",
       "      <td>Says the Congressional Budget Office \"is expec...</td>\n",
       "      <td>Half-True</td>\n",
       "    </tr>\n",
       "    <tr>\n",
       "      <th>13</th>\n",
       "      <td>Bernie Sanders</td>\n",
       "      <td>\"The largest U.S. companies would owe $620 bil...</td>\n",
       "      <td>Mostly True</td>\n",
       "    </tr>\n",
       "    <tr>\n",
       "      <th>14</th>\n",
       "      <td>Bernie Sanders</td>\n",
       "      <td>Says Hillary Clinton voted \"for virtually ever...</td>\n",
       "      <td>Half-True</td>\n",
       "    </tr>\n",
       "    <tr>\n",
       "      <th>15</th>\n",
       "      <td>Hillary Clinton</td>\n",
       "      <td>Says Bernie Sanders \"wants higher standards fo...</td>\n",
       "      <td>Half-True</td>\n",
       "    </tr>\n",
       "    <tr>\n",
       "      <th>16</th>\n",
       "      <td>Bernie Sanders</td>\n",
       "      <td>Says Hillary Clinton \"has been saying lately t...</td>\n",
       "      <td>Mostly False</td>\n",
       "    </tr>\n",
       "    <tr>\n",
       "      <th>17</th>\n",
       "      <td>New Day for America</td>\n",
       "      <td>\"Many just call him 'Lyin' Ted.' ... HisTV ad ...</td>\n",
       "      <td>False</td>\n",
       "    </tr>\n",
       "    <tr>\n",
       "      <th>18</th>\n",
       "      <td>Bernie Sanders</td>\n",
       "      <td>Says his campaign has released his past tax re...</td>\n",
       "      <td>False</td>\n",
       "    </tr>\n",
       "    <tr>\n",
       "      <th>19</th>\n",
       "      <td>Hillary Clinton</td>\n",
       "      <td>\"I have 2 and a half million more votes than h...</td>\n",
       "      <td>Mostly True</td>\n",
       "    </tr>\n",
       "    <tr>\n",
       "      <th>20</th>\n",
       "      <td>Barack Obama</td>\n",
       "      <td>The \"rate of uninsured Americans (is) 8.8 perc...</td>\n",
       "      <td>Half-True</td>\n",
       "    </tr>\n",
       "    <tr>\n",
       "      <th>21</th>\n",
       "      <td>Donald Trump</td>\n",
       "      <td>China is \"in the South China Sea and (building...</td>\n",
       "      <td>Half-True</td>\n",
       "    </tr>\n",
       "    <tr>\n",
       "      <th>22</th>\n",
       "      <td>Donald Trump</td>\n",
       "      <td>\"Weve rebuilt China.\"</td>\n",
       "      <td>Half-True</td>\n",
       "    </tr>\n",
       "    <tr>\n",
       "      <th>23</th>\n",
       "      <td>Bernie Sanders</td>\n",
       "      <td>Says his free public university tuition progra...</td>\n",
       "      <td>Mostly False</td>\n",
       "    </tr>\n",
       "    <tr>\n",
       "      <th>24</th>\n",
       "      <td>Hillary Clinton</td>\n",
       "      <td>\"I have now put out all of my emails.\"</td>\n",
       "      <td>Half-True</td>\n",
       "    </tr>\n",
       "    <tr>\n",
       "      <th>25</th>\n",
       "      <td>Hillary Clinton</td>\n",
       "      <td>\"I'm the only candidate in the Democratic prim...</td>\n",
       "      <td>Pants on Fire!</td>\n",
       "    </tr>\n",
       "    <tr>\n",
       "      <th>26</th>\n",
       "      <td>Donald Trump</td>\n",
       "      <td>SaysTed Cruz distributed the ad showing a nude...</td>\n",
       "      <td>False</td>\n",
       "    </tr>\n",
       "    <tr>\n",
       "      <th>27</th>\n",
       "      <td>Donald Trump</td>\n",
       "      <td>Says that when Michelle Fields \"found out that...</td>\n",
       "      <td>Pants on Fire!</td>\n",
       "    </tr>\n",
       "    <tr>\n",
       "      <th>28</th>\n",
       "      <td>Donald Trump</td>\n",
       "      <td>\"Theres a tremendous tax that we pay when we (...</td>\n",
       "      <td>Mostly False</td>\n",
       "    </tr>\n",
       "    <tr>\n",
       "      <th>29</th>\n",
       "      <td>Hillary Clinton</td>\n",
       "      <td>When it comes to fighting terrorism, \"Another ...</td>\n",
       "      <td>True</td>\n",
       "    </tr>\n",
       "    <tr>\n",
       "      <th>...</th>\n",
       "      <td>...</td>\n",
       "      <td>...</td>\n",
       "      <td>...</td>\n",
       "    </tr>\n",
       "    <tr>\n",
       "      <th>3850</th>\n",
       "      <td>Bill Richardson</td>\n",
       "      <td>\"Bill Richardson passed the first law in the n...</td>\n",
       "      <td>Mostly True</td>\n",
       "    </tr>\n",
       "    <tr>\n",
       "      <th>3851</th>\n",
       "      <td>Mike Gravel</td>\n",
       "      <td>\"In 1972, we had a 179,000 human beings in jai...</td>\n",
       "      <td>Pants on Fire!</td>\n",
       "    </tr>\n",
       "    <tr>\n",
       "      <th>3852</th>\n",
       "      <td>John McCain</td>\n",
       "      <td>\"In state after state, polls make clear that t...</td>\n",
       "      <td>Mostly True</td>\n",
       "    </tr>\n",
       "    <tr>\n",
       "      <th>3853</th>\n",
       "      <td>Fred Thompson</td>\n",
       "      <td>We live in \"a time of historically low violent...</td>\n",
       "      <td>Half-True</td>\n",
       "    </tr>\n",
       "    <tr>\n",
       "      <th>3854</th>\n",
       "      <td>Dennis Kucinich</td>\n",
       "      <td>\"I'm the first person who really took up the i...</td>\n",
       "      <td>Mostly True</td>\n",
       "    </tr>\n",
       "    <tr>\n",
       "      <th>3855</th>\n",
       "      <td>Joe Biden</td>\n",
       "      <td>\"You know we can't just pull out now... The tr...</td>\n",
       "      <td>True</td>\n",
       "    </tr>\n",
       "    <tr>\n",
       "      <th>3856</th>\n",
       "      <td>Joe Biden</td>\n",
       "      <td>\"The president is brain-dead.\"</td>\n",
       "      <td>Pants on Fire!</td>\n",
       "    </tr>\n",
       "    <tr>\n",
       "      <th>3857</th>\n",
       "      <td>John Edwards</td>\n",
       "      <td>An estimated 56 million Americans don't have b...</td>\n",
       "      <td>Mostly True</td>\n",
       "    </tr>\n",
       "    <tr>\n",
       "      <th>3858</th>\n",
       "      <td>Mitt Romney</td>\n",
       "      <td>\"(McCain) was opposed to ethanol. Now he's for...</td>\n",
       "      <td>Mostly True</td>\n",
       "    </tr>\n",
       "    <tr>\n",
       "      <th>3859</th>\n",
       "      <td>Mitt Romney</td>\n",
       "      <td>\"(McCain) said he was opposed to overturning R...</td>\n",
       "      <td>Half-True</td>\n",
       "    </tr>\n",
       "    <tr>\n",
       "      <th>3860</th>\n",
       "      <td>Republican National Committee</td>\n",
       "      <td>Hillary Clinton was against setting a deadline...</td>\n",
       "      <td>Half-True</td>\n",
       "    </tr>\n",
       "    <tr>\n",
       "      <th>3861</th>\n",
       "      <td>Republican National Committee</td>\n",
       "      <td>Barack Obama supported keeping troops in Iraq,...</td>\n",
       "      <td>Half-True</td>\n",
       "    </tr>\n",
       "    <tr>\n",
       "      <th>3862</th>\n",
       "      <td>Barack Obama</td>\n",
       "      <td>\"He's leading by example, refusing contributio...</td>\n",
       "      <td>Half-True</td>\n",
       "    </tr>\n",
       "    <tr>\n",
       "      <th>3863</th>\n",
       "      <td>Fred Thompson</td>\n",
       "      <td>\"... study after study has shown that the deat...</td>\n",
       "      <td>Half-True</td>\n",
       "    </tr>\n",
       "    <tr>\n",
       "      <th>3864</th>\n",
       "      <td>Hillary Clinton</td>\n",
       "      <td>\"Let's pay attention to kids who are not going...</td>\n",
       "      <td>True</td>\n",
       "    </tr>\n",
       "    <tr>\n",
       "      <th>3865</th>\n",
       "      <td>Joe Biden</td>\n",
       "      <td>\"Roadside bombs are responsible for 70 percent...</td>\n",
       "      <td>Mostly True</td>\n",
       "    </tr>\n",
       "    <tr>\n",
       "      <th>3866</th>\n",
       "      <td>Chris Dodd</td>\n",
       "      <td>\"Barack Obama and Hillary Clinton have changed...</td>\n",
       "      <td>Half-True</td>\n",
       "    </tr>\n",
       "    <tr>\n",
       "      <th>3867</th>\n",
       "      <td>Mike Huckabee</td>\n",
       "      <td>\"I'll tell you what I can tell this country: I...</td>\n",
       "      <td>False</td>\n",
       "    </tr>\n",
       "    <tr>\n",
       "      <th>3868</th>\n",
       "      <td>Rudy Giuliani</td>\n",
       "      <td>\"Democrats are kind of falling over each other...</td>\n",
       "      <td>Half-True</td>\n",
       "    </tr>\n",
       "    <tr>\n",
       "      <th>3869</th>\n",
       "      <td>Hillary Clinton</td>\n",
       "      <td>\"Corporate profits are up, CEO pay is up, but ...</td>\n",
       "      <td>True</td>\n",
       "    </tr>\n",
       "    <tr>\n",
       "      <th>3870</th>\n",
       "      <td>Bill Richardson</td>\n",
       "      <td>\"I used tax cuts to help create over 80,000 jo...</td>\n",
       "      <td>Mostly True</td>\n",
       "    </tr>\n",
       "    <tr>\n",
       "      <th>3871</th>\n",
       "      <td>Sam Brownback</td>\n",
       "      <td>\"I'm for a three-state political solution in I...</td>\n",
       "      <td>True</td>\n",
       "    </tr>\n",
       "    <tr>\n",
       "      <th>3872</th>\n",
       "      <td>Barack Obama</td>\n",
       "      <td>\"If we increase fuel efficiency standards to 4...</td>\n",
       "      <td>Half-True</td>\n",
       "    </tr>\n",
       "    <tr>\n",
       "      <th>3873</th>\n",
       "      <td>Barack Obama</td>\n",
       "      <td>\"Both China and Japan have surpassed us, with ...</td>\n",
       "      <td>Half-True</td>\n",
       "    </tr>\n",
       "    <tr>\n",
       "      <th>3874</th>\n",
       "      <td>Bill Richardson</td>\n",
       "      <td>New Mexico moved \"up to\" sixth in the nation i...</td>\n",
       "      <td>Mostly True</td>\n",
       "    </tr>\n",
       "    <tr>\n",
       "      <th>3875</th>\n",
       "      <td>Tom Tancredo</td>\n",
       "      <td>\"For every single scientist that tells you (gl...</td>\n",
       "      <td>False</td>\n",
       "    </tr>\n",
       "    <tr>\n",
       "      <th>3876</th>\n",
       "      <td>John Edwards</td>\n",
       "      <td>\"We now have the greatest income inequality si...</td>\n",
       "      <td>True</td>\n",
       "    </tr>\n",
       "    <tr>\n",
       "      <th>3877</th>\n",
       "      <td>Bill Richardson</td>\n",
       "      <td>\"New Mexico was 46th in teacher pay (when he w...</td>\n",
       "      <td>Mostly True</td>\n",
       "    </tr>\n",
       "    <tr>\n",
       "      <th>3878</th>\n",
       "      <td>Tommy Thompson</td>\n",
       "      <td>\"Tommy Thompson is the father of welfare refor...</td>\n",
       "      <td>True</td>\n",
       "    </tr>\n",
       "    <tr>\n",
       "      <th>3879</th>\n",
       "      <td>Tommy Thompson</td>\n",
       "      <td>\"Tommy Thompson created the first school choic...</td>\n",
       "      <td>True</td>\n",
       "    </tr>\n",
       "  </tbody>\n",
       "</table>\n",
       "<p>3880 rows × 3 columns</p>\n",
       "</div>"
      ],
      "text/plain": [
       "                              source  \\\n",
       "0                        Pat McCrory   \n",
       "1                    Hillary Clinton   \n",
       "2                    Hillary Clinton   \n",
       "3                     Bernie Sanders   \n",
       "4                    Hillary Clinton   \n",
       "5                     Bernie Sanders   \n",
       "6                    Hillary Clinton   \n",
       "7                       Jeff Bridges   \n",
       "8                       Donald Trump   \n",
       "9                     Bernie Sanders   \n",
       "10                   Hillary Clinton   \n",
       "11                          Ted Cruz   \n",
       "12                         Tom Price   \n",
       "13                    Bernie Sanders   \n",
       "14                    Bernie Sanders   \n",
       "15                   Hillary Clinton   \n",
       "16                    Bernie Sanders   \n",
       "17               New Day for America   \n",
       "18                    Bernie Sanders   \n",
       "19                   Hillary Clinton   \n",
       "20                      Barack Obama   \n",
       "21                      Donald Trump   \n",
       "22                      Donald Trump   \n",
       "23                    Bernie Sanders   \n",
       "24                   Hillary Clinton   \n",
       "25                   Hillary Clinton   \n",
       "26                      Donald Trump   \n",
       "27                      Donald Trump   \n",
       "28                      Donald Trump   \n",
       "29                   Hillary Clinton   \n",
       "...                              ...   \n",
       "3850                 Bill Richardson   \n",
       "3851                     Mike Gravel   \n",
       "3852                     John McCain   \n",
       "3853                   Fred Thompson   \n",
       "3854                 Dennis Kucinich   \n",
       "3855                       Joe Biden   \n",
       "3856                       Joe Biden   \n",
       "3857                    John Edwards   \n",
       "3858                     Mitt Romney   \n",
       "3859                     Mitt Romney   \n",
       "3860   Republican National Committee   \n",
       "3861   Republican National Committee   \n",
       "3862                    Barack Obama   \n",
       "3863                   Fred Thompson   \n",
       "3864                 Hillary Clinton   \n",
       "3865                       Joe Biden   \n",
       "3866                      Chris Dodd   \n",
       "3867                   Mike Huckabee   \n",
       "3868                   Rudy Giuliani   \n",
       "3869                 Hillary Clinton   \n",
       "3870                 Bill Richardson   \n",
       "3871                   Sam Brownback   \n",
       "3872                    Barack Obama   \n",
       "3873                    Barack Obama   \n",
       "3874                 Bill Richardson   \n",
       "3875                    Tom Tancredo   \n",
       "3876                    John Edwards   \n",
       "3877                 Bill Richardson   \n",
       "3878                  Tommy Thompson   \n",
       "3879                  Tommy Thompson   \n",
       "\n",
       "                                                   text           label  \n",
       "0     \"The city of Charlotte passed a bathroom ordin...    Mostly False  \n",
       "1     In nine Democratic debates, \"We've not had one...            True  \n",
       "2     The Republicans \"still want to privatize (Soci...    Mostly False  \n",
       "3     \"When this campaign began, I said that weve go...     Mostly True  \n",
       "4     Says Bernie Sanders \"has been largely a very r...    Mostly False  \n",
       "5     \"I remain one of the poorer members of the Uni...     Mostly True  \n",
       "6     \"We have tougher standards holding toy gun man...       Half-True  \n",
       "7     \"Every bit of plastic that has ever been creat...           False  \n",
       "8     \"My numbers are better right now than Ronald R...           False  \n",
       "9     Says Hillary Clinton supported and continues t...     Mostly True  \n",
       "10    \"The state that has the highest per capita num...       Half-True  \n",
       "11    \"Poll after poll after poll shows me beating H...    Mostly False  \n",
       "12    Says the Congressional Budget Office \"is expec...       Half-True  \n",
       "13    \"The largest U.S. companies would owe $620 bil...     Mostly True  \n",
       "14    Says Hillary Clinton voted \"for virtually ever...       Half-True  \n",
       "15    Says Bernie Sanders \"wants higher standards fo...       Half-True  \n",
       "16    Says Hillary Clinton \"has been saying lately t...    Mostly False  \n",
       "17    \"Many just call him 'Lyin' Ted.' ... HisTV ad ...           False  \n",
       "18    Says his campaign has released his past tax re...           False  \n",
       "19    \"I have 2 and a half million more votes than h...     Mostly True  \n",
       "20    The \"rate of uninsured Americans (is) 8.8 perc...       Half-True  \n",
       "21    China is \"in the South China Sea and (building...       Half-True  \n",
       "22                                \"Weve rebuilt China.\"       Half-True  \n",
       "23    Says his free public university tuition progra...    Mostly False  \n",
       "24               \"I have now put out all of my emails.\"       Half-True  \n",
       "25    \"I'm the only candidate in the Democratic prim...  Pants on Fire!  \n",
       "26    SaysTed Cruz distributed the ad showing a nude...           False  \n",
       "27    Says that when Michelle Fields \"found out that...  Pants on Fire!  \n",
       "28    \"Theres a tremendous tax that we pay when we (...    Mostly False  \n",
       "29    When it comes to fighting terrorism, \"Another ...            True  \n",
       "...                                                 ...             ...  \n",
       "3850  \"Bill Richardson passed the first law in the n...     Mostly True  \n",
       "3851  \"In 1972, we had a 179,000 human beings in jai...  Pants on Fire!  \n",
       "3852  \"In state after state, polls make clear that t...     Mostly True  \n",
       "3853  We live in \"a time of historically low violent...       Half-True  \n",
       "3854  \"I'm the first person who really took up the i...     Mostly True  \n",
       "3855  \"You know we can't just pull out now... The tr...            True  \n",
       "3856                     \"The president is brain-dead.\"  Pants on Fire!  \n",
       "3857  An estimated 56 million Americans don't have b...     Mostly True  \n",
       "3858  \"(McCain) was opposed to ethanol. Now he's for...     Mostly True  \n",
       "3859  \"(McCain) said he was opposed to overturning R...       Half-True  \n",
       "3860  Hillary Clinton was against setting a deadline...       Half-True  \n",
       "3861  Barack Obama supported keeping troops in Iraq,...       Half-True  \n",
       "3862  \"He's leading by example, refusing contributio...       Half-True  \n",
       "3863  \"... study after study has shown that the deat...       Half-True  \n",
       "3864  \"Let's pay attention to kids who are not going...            True  \n",
       "3865  \"Roadside bombs are responsible for 70 percent...     Mostly True  \n",
       "3866  \"Barack Obama and Hillary Clinton have changed...       Half-True  \n",
       "3867  \"I'll tell you what I can tell this country: I...           False  \n",
       "3868  \"Democrats are kind of falling over each other...       Half-True  \n",
       "3869  \"Corporate profits are up, CEO pay is up, but ...            True  \n",
       "3870  \"I used tax cuts to help create over 80,000 jo...     Mostly True  \n",
       "3871  \"I'm for a three-state political solution in I...            True  \n",
       "3872  \"If we increase fuel efficiency standards to 4...       Half-True  \n",
       "3873  \"Both China and Japan have surpassed us, with ...       Half-True  \n",
       "3874  New Mexico moved \"up to\" sixth in the nation i...     Mostly True  \n",
       "3875  \"For every single scientist that tells you (gl...           False  \n",
       "3876  \"We now have the greatest income inequality si...            True  \n",
       "3877  \"New Mexico was 46th in teacher pay (when he w...     Mostly True  \n",
       "3878  \"Tommy Thompson is the father of welfare refor...            True  \n",
       "3879  \"Tommy Thompson created the first school choic...            True  \n",
       "\n",
       "[3880 rows x 3 columns]"
      ]
     },
     "execution_count": 14,
     "metadata": {},
     "output_type": "execute_result"
    }
   ],
   "source": [
    "df"
   ]
  },
  {
   "cell_type": "code",
   "execution_count": 17,
   "metadata": {
    "collapsed": false
   },
   "outputs": [
    {
     "data": {
      "text/plain": [
       "array(['Mostly False', 'True', 'Mostly True', 'Half-True', 'False',\n",
       "       'Pants on Fire!', 'No Flip', 'Full Flop', 'Half Flip'], dtype=object)"
      ]
     },
     "execution_count": 17,
     "metadata": {},
     "output_type": "execute_result"
    }
   ],
   "source": [
    "# labels\n",
    "df['label'].unique()"
   ]
  },
  {
   "cell_type": "code",
   "execution_count": 28,
   "metadata": {
    "collapsed": false
   },
   "outputs": [],
   "source": [
    "# Remove No Flip, Full Flop, Half Flip\n",
    "\n",
    "df = df[df['label']!= 'No Flip']\n",
    "df = df[df['label']!= 'Full Flop'] \n",
    "df = df[df['label']!= 'Half Flip']"
   ]
  },
  {
   "cell_type": "code",
   "execution_count": 29,
   "metadata": {
    "collapsed": false
   },
   "outputs": [
    {
     "data": {
      "text/plain": [
       "array(['Mostly False', 'True', 'Mostly True', 'Half-True', 'False',\n",
       "       'Pants on Fire!'], dtype=object)"
      ]
     },
     "execution_count": 29,
     "metadata": {},
     "output_type": "execute_result"
    }
   ],
   "source": [
    "df['label'].unique()"
   ]
  },
  {
   "cell_type": "code",
   "execution_count": 30,
   "metadata": {
    "collapsed": true
   },
   "outputs": [],
   "source": [
    "# Discretize the label into binary outputs - True and False\n",
    "df.loc[df['label'] == 'Half-True', 'label'] = 'True'\n",
    "df.loc[df['label'] == 'Mostly True', 'label'] = 'True'\n",
    "df.loc[df['label'] == 'Mostly False', 'label'] = 'False'\n",
    "df.loc[df['label'] == 'Pants on Fire!', 'label'] = 'False'"
   ]
  },
  {
   "cell_type": "code",
   "execution_count": 33,
   "metadata": {
    "collapsed": false
   },
   "outputs": [
    {
     "data": {
      "text/plain": [
       "array(['False', 'True'], dtype=object)"
      ]
     },
     "execution_count": 33,
     "metadata": {},
     "output_type": "execute_result"
    }
   ],
   "source": [
    "df['label'].unique()"
   ]
  },
  {
   "cell_type": "code",
   "execution_count": 35,
   "metadata": {
    "collapsed": false
   },
   "outputs": [
    {
     "data": {
      "text/html": [
       "<div>\n",
       "<table border=\"1\" class=\"dataframe\">\n",
       "  <thead>\n",
       "    <tr style=\"text-align: right;\">\n",
       "      <th></th>\n",
       "      <th>source</th>\n",
       "      <th>text</th>\n",
       "      <th>label</th>\n",
       "    </tr>\n",
       "  </thead>\n",
       "  <tbody>\n",
       "    <tr>\n",
       "      <th>count</th>\n",
       "      <td>3815</td>\n",
       "      <td>3815</td>\n",
       "      <td>3815</td>\n",
       "    </tr>\n",
       "    <tr>\n",
       "      <th>unique</th>\n",
       "      <td>693</td>\n",
       "      <td>3813</td>\n",
       "      <td>2</td>\n",
       "    </tr>\n",
       "    <tr>\n",
       "      <th>top</th>\n",
       "      <td>Barack Obama</td>\n",
       "      <td>Says Mitt Romney flip-flopped on abortion.</td>\n",
       "      <td>True</td>\n",
       "    </tr>\n",
       "    <tr>\n",
       "      <th>freq</th>\n",
       "      <td>532</td>\n",
       "      <td>2</td>\n",
       "      <td>2105</td>\n",
       "    </tr>\n",
       "  </tbody>\n",
       "</table>\n",
       "</div>"
      ],
      "text/plain": [
       "              source                                        text label\n",
       "count           3815                                        3815  3815\n",
       "unique           693                                        3813     2\n",
       "top     Barack Obama  Says Mitt Romney flip-flopped on abortion.  True\n",
       "freq             532                                           2  2105"
      ]
     },
     "execution_count": 35,
     "metadata": {},
     "output_type": "execute_result"
    }
   ],
   "source": [
    "df.describe()"
   ]
  },
  {
   "cell_type": "code",
   "execution_count": 36,
   "metadata": {
    "collapsed": false
   },
   "outputs": [
    {
     "data": {
      "text/html": [
       "<div>\n",
       "<table border=\"1\" class=\"dataframe\">\n",
       "  <thead>\n",
       "    <tr style=\"text-align: right;\">\n",
       "      <th></th>\n",
       "      <th></th>\n",
       "      <th>source</th>\n",
       "      <th>text</th>\n",
       "    </tr>\n",
       "    <tr>\n",
       "      <th>label</th>\n",
       "      <th></th>\n",
       "      <th></th>\n",
       "      <th></th>\n",
       "    </tr>\n",
       "  </thead>\n",
       "  <tbody>\n",
       "    <tr>\n",
       "      <th rowspan=\"4\" valign=\"top\">False</th>\n",
       "      <th>count</th>\n",
       "      <td>1710</td>\n",
       "      <td>1710</td>\n",
       "    </tr>\n",
       "    <tr>\n",
       "      <th>unique</th>\n",
       "      <td>418</td>\n",
       "      <td>1709</td>\n",
       "    </tr>\n",
       "    <tr>\n",
       "      <th>top</th>\n",
       "      <td>Barack Obama</td>\n",
       "      <td>\"Obama says Iran is a 'tiny' country, 'doesn't...</td>\n",
       "    </tr>\n",
       "    <tr>\n",
       "      <th>freq</th>\n",
       "      <td>137</td>\n",
       "      <td>2</td>\n",
       "    </tr>\n",
       "    <tr>\n",
       "      <th rowspan=\"4\" valign=\"top\">True</th>\n",
       "      <th>count</th>\n",
       "      <td>2105</td>\n",
       "      <td>2105</td>\n",
       "    </tr>\n",
       "    <tr>\n",
       "      <th>unique</th>\n",
       "      <td>493</td>\n",
       "      <td>2104</td>\n",
       "    </tr>\n",
       "    <tr>\n",
       "      <th>top</th>\n",
       "      <td>Barack Obama</td>\n",
       "      <td>Says Mitt Romney flip-flopped on abortion.</td>\n",
       "    </tr>\n",
       "    <tr>\n",
       "      <th>freq</th>\n",
       "      <td>395</td>\n",
       "      <td>2</td>\n",
       "    </tr>\n",
       "  </tbody>\n",
       "</table>\n",
       "</div>"
      ],
      "text/plain": [
       "                    source                                               text\n",
       "label                                                                        \n",
       "False count           1710                                               1710\n",
       "      unique           418                                               1709\n",
       "      top     Barack Obama  \"Obama says Iran is a 'tiny' country, 'doesn't...\n",
       "      freq             137                                                  2\n",
       "True  count           2105                                               2105\n",
       "      unique           493                                               2104\n",
       "      top     Barack Obama         Says Mitt Romney flip-flopped on abortion.\n",
       "      freq             395                                                  2"
      ]
     },
     "execution_count": 36,
     "metadata": {},
     "output_type": "execute_result"
    }
   ],
   "source": [
    "df.groupby('label').describe()"
   ]
  },
  {
   "cell_type": "code",
   "execution_count": 38,
   "metadata": {
    "collapsed": false
   },
   "outputs": [
    {
     "data": {
      "text/plain": [
       "count             3815\n",
       "unique             693\n",
       "top       Barack Obama\n",
       "freq               532\n",
       "Name: source, dtype: object"
      ]
     },
     "execution_count": 38,
     "metadata": {},
     "output_type": "execute_result"
    }
   ],
   "source": [
    "df['source'].describe()"
   ]
  },
  {
   "cell_type": "code",
   "execution_count": 40,
   "metadata": {
    "collapsed": false
   },
   "outputs": [
    {
     "data": {
      "text/plain": [
       "Barack Obama                                      532\n",
       "John McCain                                       175\n",
       "Mitt Romney                                       174\n",
       "Hillary Clinton                                   157\n",
       " Chain email                                      127\n",
       "Donald Trump                                       87\n",
       "Bernie Sanders                                     63\n",
       "Joe Biden                                          61\n",
       " Facebook posts                                    61\n",
       "Michele Bachmann                                   56\n",
       "Sarah Palin                                        53\n",
       "Ted Cruz                                           50\n",
       "John Boehner                                       49\n",
       "Rick Santorum                                      47\n",
       "Newt Gingrich                                      47\n",
       "Rand Paul                                          45\n",
       "Marco Rubio                                        43\n",
       "Mike Huckabee                                      37\n",
       "Rudy Giuliani                                      36\n",
       " Bloggers                                          33\n",
       " Republican National Committee                     28\n",
       "Nancy  Pelosi                                      28\n",
       " Democratic National Committee                     27\n",
       "Bill Clinton                                       26\n",
       "Paul Ryan                                          25\n",
       "Mitch McConnell                                    25\n",
       "Jeb Bush                                           24\n",
       "Rick Perry                                         22\n",
       "Harry Reid                                         22\n",
       "Ben Carson                                         20\n",
       "                                                 ... \n",
       "Jimmy Carter                                        1\n",
       " Americans for a Strong Defense                     1\n",
       "Nick Gillespie                                      1\n",
       "Nancy Pfotenhauer                                   1\n",
       " House Natural Resources Committee Republicans      1\n",
       "Doris Kearns Goodwin                                1\n",
       "Tim  Murphy                                         1\n",
       "Bob King                                            1\n",
       " Libertarian National Committee                     1\n",
       " Sierra Club                                        1\n",
       " Nationwide                                         1\n",
       " America's Natural Gas Alliance                     1\n",
       "Ted Nugent                                          1\n",
       "Dave Brat                                           1\n",
       "Stephen Colbert                                     1\n",
       "Jane Norton                                         1\n",
       "Ted Strickland                                      1\n",
       "Andy Puzder                                         1\n",
       "Al Cardenas                                         1\n",
       "Keith Ellison                                       1\n",
       "Antonin Scalia                                      1\n",
       "Dan Boren                                           1\n",
       "Cokie Roberts                                       1\n",
       "Joe Walsh                                           1\n",
       "Martina Navratilova                                 1\n",
       " EMILY's List                                       1\n",
       " Fresh Start PA                                     1\n",
       " Democratic congressional leadership                1\n",
       " Democratic Congressional Campaign Committee        1\n",
       "Betty McCollum                                      1\n",
       "Name: source, dtype: int64"
      ]
     },
     "execution_count": 40,
     "metadata": {},
     "output_type": "execute_result"
    }
   ],
   "source": [
    "df['source'].value_counts()"
   ]
  },
  {
   "cell_type": "code",
   "execution_count": 92,
   "metadata": {
    "collapsed": true
   },
   "outputs": [],
   "source": [
    "a = df.groupby(['label','source'],as_index=False).count()\n",
    "df1 = pd.DataFrame(a)"
   ]
  },
  {
   "cell_type": "code",
   "execution_count": 99,
   "metadata": {
    "collapsed": false
   },
   "outputs": [
    {
     "data": {
      "text/html": [
       "<div>\n",
       "<table border=\"1\" class=\"dataframe\">\n",
       "  <thead>\n",
       "    <tr style=\"text-align: right;\">\n",
       "      <th></th>\n",
       "      <th>label</th>\n",
       "      <th>source</th>\n",
       "      <th>text</th>\n",
       "    </tr>\n",
       "  </thead>\n",
       "  <tbody>\n",
       "    <tr>\n",
       "      <th>0</th>\n",
       "      <td>False</td>\n",
       "      <td>18% of the American public</td>\n",
       "      <td>1</td>\n",
       "    </tr>\n",
       "    <tr>\n",
       "      <th>1</th>\n",
       "      <td>False</td>\n",
       "      <td>60 Plus Association</td>\n",
       "      <td>1</td>\n",
       "    </tr>\n",
       "    <tr>\n",
       "      <th>2</th>\n",
       "      <td>False</td>\n",
       "      <td>AmeriPAC</td>\n",
       "      <td>2</td>\n",
       "    </tr>\n",
       "    <tr>\n",
       "      <th>3</th>\n",
       "      <td>False</td>\n",
       "      <td>American Action Network</td>\n",
       "      <td>1</td>\n",
       "    </tr>\n",
       "    <tr>\n",
       "      <th>4</th>\n",
       "      <td>False</td>\n",
       "      <td>American Bridge 21st Century</td>\n",
       "      <td>1</td>\n",
       "    </tr>\n",
       "    <tr>\n",
       "      <th>5</th>\n",
       "      <td>False</td>\n",
       "      <td>American Crossroads</td>\n",
       "      <td>6</td>\n",
       "    </tr>\n",
       "    <tr>\n",
       "      <th>6</th>\n",
       "      <td>False</td>\n",
       "      <td>American Future Fund</td>\n",
       "      <td>2</td>\n",
       "    </tr>\n",
       "    <tr>\n",
       "      <th>7</th>\n",
       "      <td>False</td>\n",
       "      <td>AmericanNews.com</td>\n",
       "      <td>2</td>\n",
       "    </tr>\n",
       "    <tr>\n",
       "      <th>8</th>\n",
       "      <td>False</td>\n",
       "      <td>Americans For Tax Reform</td>\n",
       "      <td>4</td>\n",
       "    </tr>\n",
       "    <tr>\n",
       "      <th>9</th>\n",
       "      <td>False</td>\n",
       "      <td>Americans United for Change</td>\n",
       "      <td>4</td>\n",
       "    </tr>\n",
       "    <tr>\n",
       "      <th>10</th>\n",
       "      <td>False</td>\n",
       "      <td>Americans for Prosperity</td>\n",
       "      <td>8</td>\n",
       "    </tr>\n",
       "    <tr>\n",
       "      <th>11</th>\n",
       "      <td>False</td>\n",
       "      <td>Americans for a Strong Defense</td>\n",
       "      <td>1</td>\n",
       "    </tr>\n",
       "    <tr>\n",
       "      <th>12</th>\n",
       "      <td>False</td>\n",
       "      <td>Anonymous GOP critics</td>\n",
       "      <td>1</td>\n",
       "    </tr>\n",
       "    <tr>\n",
       "      <th>13</th>\n",
       "      <td>False</td>\n",
       "      <td>Arizona Citizens Defense League</td>\n",
       "      <td>1</td>\n",
       "    </tr>\n",
       "    <tr>\n",
       "      <th>14</th>\n",
       "      <td>False</td>\n",
       "      <td>Bloggers</td>\n",
       "      <td>29</td>\n",
       "    </tr>\n",
       "    <tr>\n",
       "      <th>15</th>\n",
       "      <td>False</td>\n",
       "      <td>BookerFail</td>\n",
       "      <td>1</td>\n",
       "    </tr>\n",
       "    <tr>\n",
       "      <th>16</th>\n",
       "      <td>False</td>\n",
       "      <td>BornAliveTruth.org</td>\n",
       "      <td>1</td>\n",
       "    </tr>\n",
       "    <tr>\n",
       "      <th>17</th>\n",
       "      <td>False</td>\n",
       "      <td>Campaign Money Watch</td>\n",
       "      <td>1</td>\n",
       "    </tr>\n",
       "    <tr>\n",
       "      <th>18</th>\n",
       "      <td>False</td>\n",
       "      <td>Campaign to Defend America</td>\n",
       "      <td>1</td>\n",
       "    </tr>\n",
       "    <tr>\n",
       "      <th>19</th>\n",
       "      <td>False</td>\n",
       "      <td>Cato Institute</td>\n",
       "      <td>1</td>\n",
       "    </tr>\n",
       "    <tr>\n",
       "      <th>20</th>\n",
       "      <td>False</td>\n",
       "      <td>Chain email</td>\n",
       "      <td>112</td>\n",
       "    </tr>\n",
       "    <tr>\n",
       "      <th>21</th>\n",
       "      <td>False</td>\n",
       "      <td>Club for Growth</td>\n",
       "      <td>2</td>\n",
       "    </tr>\n",
       "    <tr>\n",
       "      <th>22</th>\n",
       "      <td>False</td>\n",
       "      <td>Color of Change</td>\n",
       "      <td>1</td>\n",
       "    </tr>\n",
       "    <tr>\n",
       "      <th>23</th>\n",
       "      <td>False</td>\n",
       "      <td>Concerned Veterans for America</td>\n",
       "      <td>1</td>\n",
       "    </tr>\n",
       "    <tr>\n",
       "      <th>24</th>\n",
       "      <td>False</td>\n",
       "      <td>Conservative Solutions PAC</td>\n",
       "      <td>1</td>\n",
       "    </tr>\n",
       "    <tr>\n",
       "      <th>25</th>\n",
       "      <td>False</td>\n",
       "      <td>Conservatives for Patients' Rights</td>\n",
       "      <td>1</td>\n",
       "    </tr>\n",
       "    <tr>\n",
       "      <th>26</th>\n",
       "      <td>False</td>\n",
       "      <td>Credo Action</td>\n",
       "      <td>1</td>\n",
       "    </tr>\n",
       "    <tr>\n",
       "      <th>27</th>\n",
       "      <td>False</td>\n",
       "      <td>Crossroads GPS</td>\n",
       "      <td>5</td>\n",
       "    </tr>\n",
       "    <tr>\n",
       "      <th>28</th>\n",
       "      <td>False</td>\n",
       "      <td>Defending Main Street</td>\n",
       "      <td>1</td>\n",
       "    </tr>\n",
       "    <tr>\n",
       "      <th>29</th>\n",
       "      <td>False</td>\n",
       "      <td>Democratic Congressional Campaign Committee</td>\n",
       "      <td>1</td>\n",
       "    </tr>\n",
       "    <tr>\n",
       "      <th>...</th>\n",
       "      <td>...</td>\n",
       "      <td>...</td>\n",
       "      <td>...</td>\n",
       "    </tr>\n",
       "    <tr>\n",
       "      <th>881</th>\n",
       "      <td>True</td>\n",
       "      <td>Ted Nugent</td>\n",
       "      <td>1</td>\n",
       "    </tr>\n",
       "    <tr>\n",
       "      <th>882</th>\n",
       "      <td>True</td>\n",
       "      <td>Ted Poe</td>\n",
       "      <td>1</td>\n",
       "    </tr>\n",
       "    <tr>\n",
       "      <th>883</th>\n",
       "      <td>True</td>\n",
       "      <td>Ted Strickland</td>\n",
       "      <td>1</td>\n",
       "    </tr>\n",
       "    <tr>\n",
       "      <th>884</th>\n",
       "      <td>True</td>\n",
       "      <td>Thaddeus McCotter</td>\n",
       "      <td>1</td>\n",
       "    </tr>\n",
       "    <tr>\n",
       "      <th>885</th>\n",
       "      <td>True</td>\n",
       "      <td>Thom Tillis</td>\n",
       "      <td>2</td>\n",
       "    </tr>\n",
       "    <tr>\n",
       "      <th>886</th>\n",
       "      <td>True</td>\n",
       "      <td>Thomas Perez</td>\n",
       "      <td>2</td>\n",
       "    </tr>\n",
       "    <tr>\n",
       "      <th>887</th>\n",
       "      <td>True</td>\n",
       "      <td>Tim Griffin</td>\n",
       "      <td>1</td>\n",
       "    </tr>\n",
       "    <tr>\n",
       "      <th>888</th>\n",
       "      <td>True</td>\n",
       "      <td>Tim Kaine</td>\n",
       "      <td>2</td>\n",
       "    </tr>\n",
       "    <tr>\n",
       "      <th>889</th>\n",
       "      <td>True</td>\n",
       "      <td>Tim Pawlenty</td>\n",
       "      <td>11</td>\n",
       "    </tr>\n",
       "    <tr>\n",
       "      <th>890</th>\n",
       "      <td>True</td>\n",
       "      <td>Timothy Dolan</td>\n",
       "      <td>1</td>\n",
       "    </tr>\n",
       "    <tr>\n",
       "      <th>891</th>\n",
       "      <td>True</td>\n",
       "      <td>Timothy Geithner</td>\n",
       "      <td>2</td>\n",
       "    </tr>\n",
       "    <tr>\n",
       "      <th>892</th>\n",
       "      <td>True</td>\n",
       "      <td>Todd Tiahrt</td>\n",
       "      <td>1</td>\n",
       "    </tr>\n",
       "    <tr>\n",
       "      <th>893</th>\n",
       "      <td>True</td>\n",
       "      <td>Tom Coburn</td>\n",
       "      <td>5</td>\n",
       "    </tr>\n",
       "    <tr>\n",
       "      <th>894</th>\n",
       "      <td>True</td>\n",
       "      <td>Tom Cole</td>\n",
       "      <td>3</td>\n",
       "    </tr>\n",
       "    <tr>\n",
       "      <th>895</th>\n",
       "      <td>True</td>\n",
       "      <td>Tom Cotton</td>\n",
       "      <td>4</td>\n",
       "    </tr>\n",
       "    <tr>\n",
       "      <th>896</th>\n",
       "      <td>True</td>\n",
       "      <td>Tom Graves</td>\n",
       "      <td>1</td>\n",
       "    </tr>\n",
       "    <tr>\n",
       "      <th>897</th>\n",
       "      <td>True</td>\n",
       "      <td>Tom Harkin</td>\n",
       "      <td>1</td>\n",
       "    </tr>\n",
       "    <tr>\n",
       "      <th>898</th>\n",
       "      <td>True</td>\n",
       "      <td>Tom Price</td>\n",
       "      <td>3</td>\n",
       "    </tr>\n",
       "    <tr>\n",
       "      <th>899</th>\n",
       "      <td>True</td>\n",
       "      <td>Tom Tancredo</td>\n",
       "      <td>2</td>\n",
       "    </tr>\n",
       "    <tr>\n",
       "      <th>900</th>\n",
       "      <td>True</td>\n",
       "      <td>Tommy Thompson</td>\n",
       "      <td>2</td>\n",
       "    </tr>\n",
       "    <tr>\n",
       "      <th>901</th>\n",
       "      <td>True</td>\n",
       "      <td>Van Jones</td>\n",
       "      <td>1</td>\n",
       "    </tr>\n",
       "    <tr>\n",
       "      <th>902</th>\n",
       "      <td>True</td>\n",
       "      <td>Vern Buchanan</td>\n",
       "      <td>1</td>\n",
       "    </tr>\n",
       "    <tr>\n",
       "      <th>903</th>\n",
       "      <td>True</td>\n",
       "      <td>Vicky Hartzler</td>\n",
       "      <td>1</td>\n",
       "    </tr>\n",
       "    <tr>\n",
       "      <th>904</th>\n",
       "      <td>True</td>\n",
       "      <td>Virginia Foxx</td>\n",
       "      <td>2</td>\n",
       "    </tr>\n",
       "    <tr>\n",
       "      <th>905</th>\n",
       "      <td>True</td>\n",
       "      <td>Vladimir Putin</td>\n",
       "      <td>1</td>\n",
       "    </tr>\n",
       "    <tr>\n",
       "      <th>906</th>\n",
       "      <td>True</td>\n",
       "      <td>Warren Buffett</td>\n",
       "      <td>1</td>\n",
       "    </tr>\n",
       "    <tr>\n",
       "      <th>907</th>\n",
       "      <td>True</td>\n",
       "      <td>Wayne LaPierre</td>\n",
       "      <td>4</td>\n",
       "    </tr>\n",
       "    <tr>\n",
       "      <th>908</th>\n",
       "      <td>True</td>\n",
       "      <td>Wesley Clark</td>\n",
       "      <td>1</td>\n",
       "    </tr>\n",
       "    <tr>\n",
       "      <th>909</th>\n",
       "      <td>True</td>\n",
       "      <td>Xavier Becerra</td>\n",
       "      <td>2</td>\n",
       "    </tr>\n",
       "    <tr>\n",
       "      <th>910</th>\n",
       "      <td>True</td>\n",
       "      <td>Zoe Lofgren</td>\n",
       "      <td>1</td>\n",
       "    </tr>\n",
       "  </tbody>\n",
       "</table>\n",
       "<p>911 rows × 3 columns</p>\n",
       "</div>"
      ],
      "text/plain": [
       "     label                                        source  text\n",
       "0    False                    18% of the American public     1\n",
       "1    False                           60 Plus Association     1\n",
       "2    False                                      AmeriPAC     2\n",
       "3    False                       American Action Network     1\n",
       "4    False                  American Bridge 21st Century     1\n",
       "5    False                           American Crossroads     6\n",
       "6    False                          American Future Fund     2\n",
       "7    False                              AmericanNews.com     2\n",
       "8    False                      Americans For Tax Reform     4\n",
       "9    False                   Americans United for Change     4\n",
       "10   False                      Americans for Prosperity     8\n",
       "11   False                Americans for a Strong Defense     1\n",
       "12   False                         Anonymous GOP critics     1\n",
       "13   False               Arizona Citizens Defense League     1\n",
       "14   False                                      Bloggers    29\n",
       "15   False                                    BookerFail     1\n",
       "16   False                            BornAliveTruth.org     1\n",
       "17   False                          Campaign Money Watch     1\n",
       "18   False                    Campaign to Defend America     1\n",
       "19   False                                Cato Institute     1\n",
       "20   False                                   Chain email   112\n",
       "21   False                               Club for Growth     2\n",
       "22   False                               Color of Change     1\n",
       "23   False                Concerned Veterans for America     1\n",
       "24   False                    Conservative Solutions PAC     1\n",
       "25   False            Conservatives for Patients' Rights     1\n",
       "26   False                                  Credo Action     1\n",
       "27   False                                Crossroads GPS     5\n",
       "28   False                         Defending Main Street     1\n",
       "29   False   Democratic Congressional Campaign Committee     1\n",
       "..     ...                                           ...   ...\n",
       "881   True                                    Ted Nugent     1\n",
       "882   True                                       Ted Poe     1\n",
       "883   True                                Ted Strickland     1\n",
       "884   True                             Thaddeus McCotter     1\n",
       "885   True                                   Thom Tillis     2\n",
       "886   True                                  Thomas Perez     2\n",
       "887   True                                   Tim Griffin     1\n",
       "888   True                                     Tim Kaine     2\n",
       "889   True                                  Tim Pawlenty    11\n",
       "890   True                                 Timothy Dolan     1\n",
       "891   True                              Timothy Geithner     2\n",
       "892   True                                   Todd Tiahrt     1\n",
       "893   True                                    Tom Coburn     5\n",
       "894   True                                      Tom Cole     3\n",
       "895   True                                    Tom Cotton     4\n",
       "896   True                                    Tom Graves     1\n",
       "897   True                                    Tom Harkin     1\n",
       "898   True                                     Tom Price     3\n",
       "899   True                                  Tom Tancredo     2\n",
       "900   True                                Tommy Thompson     2\n",
       "901   True                                     Van Jones     1\n",
       "902   True                                 Vern Buchanan     1\n",
       "903   True                                Vicky Hartzler     1\n",
       "904   True                                 Virginia Foxx     2\n",
       "905   True                                Vladimir Putin     1\n",
       "906   True                                Warren Buffett     1\n",
       "907   True                                Wayne LaPierre     4\n",
       "908   True                                  Wesley Clark     1\n",
       "909   True                                Xavier Becerra     2\n",
       "910   True                                   Zoe Lofgren     1\n",
       "\n",
       "[911 rows x 3 columns]"
      ]
     },
     "execution_count": 99,
     "metadata": {},
     "output_type": "execute_result"
    }
   ],
   "source": [
    "df1"
   ]
  },
  {
   "cell_type": "code",
   "execution_count": 118,
   "metadata": {
    "collapsed": false
   },
   "outputs": [
    {
     "data": {
      "text/html": [
       "<div>\n",
       "<table border=\"1\" class=\"dataframe\">\n",
       "  <thead>\n",
       "    <tr style=\"text-align: right;\">\n",
       "      <th></th>\n",
       "      <th>label</th>\n",
       "      <th>source</th>\n",
       "      <th>text</th>\n",
       "    </tr>\n",
       "  </thead>\n",
       "  <tbody>\n",
       "    <tr>\n",
       "      <th>545</th>\n",
       "      <td>True</td>\n",
       "      <td>Barack Obama</td>\n",
       "      <td>395</td>\n",
       "    </tr>\n",
       "  </tbody>\n",
       "</table>\n",
       "</div>"
      ],
      "text/plain": [
       "    label        source  text\n",
       "545  True  Barack Obama   395"
      ]
     },
     "execution_count": 118,
     "metadata": {},
     "output_type": "execute_result"
    }
   ],
   "source": [
    "# Lets find out which person/group tells the truth most of the time\n",
    "truth=df1[df1['label']=='True']\n",
    "\n",
    "x = df1[df1['text'] == max(truth['text'].unique())]\n",
    "x"
   ]
  },
  {
   "cell_type": "code",
   "execution_count": 119,
   "metadata": {
    "collapsed": false
   },
   "outputs": [
    {
     "data": {
      "text/html": [
       "<div>\n",
       "<table border=\"1\" class=\"dataframe\">\n",
       "  <thead>\n",
       "    <tr style=\"text-align: right;\">\n",
       "      <th></th>\n",
       "      <th>label</th>\n",
       "      <th>source</th>\n",
       "      <th>text</th>\n",
       "    </tr>\n",
       "  </thead>\n",
       "  <tbody>\n",
       "    <tr>\n",
       "      <th>127</th>\n",
       "      <td>False</td>\n",
       "      <td>Barack Obama</td>\n",
       "      <td>137</td>\n",
       "    </tr>\n",
       "  </tbody>\n",
       "</table>\n",
       "</div>"
      ],
      "text/plain": [
       "     label        source  text\n",
       "127  False  Barack Obama   137"
      ]
     },
     "execution_count": 119,
     "metadata": {},
     "output_type": "execute_result"
    }
   ],
   "source": [
    "# Lets find out which person/group tells lies most of the time\n",
    "lies = df1[df1['label'] == 'False']\n",
    "\n",
    "y = df1[df1['text'] == max(lies['text'].unique())]\n",
    "y"
   ]
  },
  {
   "cell_type": "code",
   "execution_count": 120,
   "metadata": {
    "collapsed": true
   },
   "outputs": [],
   "source": [
    "# We get Barack Obama in highest number of truth as well as false statements\n",
    "# We should have expected this because Obama has the highest number of statements - 532\n",
    "# We can still conculde that obama tells the truth more often than lies"
   ]
  },
  {
   "cell_type": "code",
   "execution_count": 122,
   "metadata": {
    "collapsed": false
   },
   "outputs": [
    {
     "data": {
      "text/html": [
       "<div>\n",
       "<table border=\"1\" class=\"dataframe\">\n",
       "  <thead>\n",
       "    <tr style=\"text-align: right;\">\n",
       "      <th></th>\n",
       "      <th>source</th>\n",
       "      <th>text</th>\n",
       "      <th>label</th>\n",
       "      <th>length</th>\n",
       "    </tr>\n",
       "  </thead>\n",
       "  <tbody>\n",
       "    <tr>\n",
       "      <th>0</th>\n",
       "      <td>Pat McCrory</td>\n",
       "      <td>\"The city of Charlotte passed a bathroom ordin...</td>\n",
       "      <td>False</td>\n",
       "      <td>106</td>\n",
       "    </tr>\n",
       "    <tr>\n",
       "      <th>1</th>\n",
       "      <td>Hillary Clinton</td>\n",
       "      <td>In nine Democratic debates, \"We've not had one...</td>\n",
       "      <td>True</td>\n",
       "      <td>154</td>\n",
       "    </tr>\n",
       "    <tr>\n",
       "      <th>2</th>\n",
       "      <td>Hillary Clinton</td>\n",
       "      <td>The Republicans \"still want to privatize (Soci...</td>\n",
       "      <td>False</td>\n",
       "      <td>149</td>\n",
       "    </tr>\n",
       "    <tr>\n",
       "      <th>3</th>\n",
       "      <td>Bernie Sanders</td>\n",
       "      <td>\"When this campaign began, I said that weve go...</td>\n",
       "      <td>True</td>\n",
       "      <td>156</td>\n",
       "    </tr>\n",
       "    <tr>\n",
       "      <th>4</th>\n",
       "      <td>Hillary Clinton</td>\n",
       "      <td>Says Bernie Sanders \"has been largely a very r...</td>\n",
       "      <td>False</td>\n",
       "      <td>76</td>\n",
       "    </tr>\n",
       "  </tbody>\n",
       "</table>\n",
       "</div>"
      ],
      "text/plain": [
       "            source                                               text  label  \\\n",
       "0      Pat McCrory  \"The city of Charlotte passed a bathroom ordin...  False   \n",
       "1  Hillary Clinton  In nine Democratic debates, \"We've not had one...   True   \n",
       "2  Hillary Clinton  The Republicans \"still want to privatize (Soci...  False   \n",
       "3   Bernie Sanders  \"When this campaign began, I said that weve go...   True   \n",
       "4  Hillary Clinton  Says Bernie Sanders \"has been largely a very r...  False   \n",
       "\n",
       "   length  \n",
       "0     106  \n",
       "1     154  \n",
       "2     149  \n",
       "3     156  \n",
       "4      76  "
      ]
     },
     "execution_count": 122,
     "metadata": {},
     "output_type": "execute_result"
    }
   ],
   "source": [
    "# Lets find out if the length of the text has any effect on the label\n",
    "df['length'] = df['text'].apply(len)\n",
    "df.head()"
   ]
  },
  {
   "cell_type": "code",
   "execution_count": 124,
   "metadata": {
    "collapsed": false
   },
   "outputs": [
    {
     "name": "stdout",
     "output_type": "stream",
     "text": [
      "Collecting seaborn\n",
      "  Downloading seaborn-0.7.0.tar.gz (154kB)\n",
      "Building wheels for collected packages: seaborn\n",
      "  Running setup.py bdist_wheel for seaborn: started\n",
      "  Running setup.py bdist_wheel for seaborn: finished with status 'done'\n",
      "  Stored in directory: C:\\Users\\mohit\\AppData\\Local\\pip\\Cache\\wheels\\83\\56\\50\\6dc42e822bb1b1aad5e8f2927b1c932dc89ee4e0b15dac98c6\n",
      "Successfully built seaborn\n",
      "Installing collected packages: seaborn\n",
      "Successfully installed seaborn-0.7.0\n"
     ]
    },
    {
     "name": "stderr",
     "output_type": "stream",
     "text": [
      "You are using pip version 8.0.2, however version 8.1.1 is available.\n",
      "You should consider upgrading via the 'python -m pip install --upgrade pip' command.\n"
     ]
    }
   ],
   "source": [
    "import pip    \n",
    "def install(package):\n",
    "    pip.main(['install', package])\n",
    "\n",
    "install('seaborn')"
   ]
  },
  {
   "cell_type": "code",
   "execution_count": 125,
   "metadata": {
    "collapsed": true
   },
   "outputs": [],
   "source": [
    "import matplotlib.pyplot as plt\n",
    "import seaborn as sns\n",
    "\n",
    "%matplotlib inline"
   ]
  },
  {
   "cell_type": "code",
   "execution_count": 126,
   "metadata": {
    "collapsed": false
   },
   "outputs": [
    {
     "data": {
      "text/plain": [
       "<matplotlib.axes._subplots.AxesSubplot at 0x20cca940>"
      ]
     },
     "execution_count": 126,
     "metadata": {},
     "output_type": "execute_result"
    },
    {
     "data": {
      "image/png": "[encoded data removed]",
      "text/plain": [
       "<matplotlib.figure.Figure at 0x20ca30f0>"
      ]
     },
     "metadata": {},
     "output_type": "display_data"
    }
   ],
   "source": [
    "df['length'].plot(bins=50, kind='hist')"
   ]
  },
  {
   "cell_type": "code",
   "execution_count": 127,
   "metadata": {
    "collapsed": false
   },
   "outputs": [
    {
     "data": {
      "text/plain": [
       "count    3815.000000\n",
       "mean      108.476802\n",
       "std        45.446101\n",
       "min        17.000000\n",
       "25%        75.000000\n",
       "50%       100.000000\n",
       "75%       136.000000\n",
       "max       372.000000\n",
       "Name: length, dtype: float64"
      ]
     },
     "execution_count": 127,
     "metadata": {},
     "output_type": "execute_result"
    }
   ],
   "source": [
    "df.length.describe()"
   ]
  },
  {
   "cell_type": "code",
   "execution_count": 128,
   "metadata": {
    "collapsed": false
   },
   "outputs": [
    {
     "data": {
      "text/plain": [
       "'\"Let\\'s pay attention to kids who are not going to college, which ends up being about 60 percent of the kids... and get them trained for the jobs that are there. Because, you know, there are auto mechanic jobs paying $50,000, $60,000 that they can\\'t get filled. There are airline mechanic jobs paying a lot of money that can\\'t get filled.\" Remarks at AFSCME forum 6/19/2007'"
      ]
     },
     "execution_count": 128,
     "metadata": {},
     "output_type": "execute_result"
    }
   ],
   "source": [
    "# Display maximum length of the text\n",
    "df[df['length'] == 372]['text'].iloc[0]"
   ]
  },
  {
   "cell_type": "code",
   "execution_count": 129,
   "metadata": {
    "collapsed": false
   },
   "outputs": [
    {
     "data": {
      "text/plain": [
       "array([<matplotlib.axes._subplots.AxesSubplot object at 0x0000000020804978>,\n",
       "       <matplotlib.axes._subplots.AxesSubplot object at 0x0000000020F4F550>], dtype=object)"
      ]
     },
     "execution_count": 129,
     "metadata": {},
     "output_type": "execute_result"
    },
    {
     "data": {
      "image/png": "[encoded data removed]",
      "text/plain": [
       "<matplotlib.figure.Figure at 0x209d7ba8>"
      ]
     },
     "metadata": {},
     "output_type": "display_data"
    }
   ],
   "source": [
    "# Visualize the histograms for False and True labels\n",
    "df.hist(column='length', by='label', bins=50,figsize=(10,4))"
   ]
  },
  {
   "cell_type": "code",
   "execution_count": 160,
   "metadata": {
    "collapsed": false
   },
   "outputs": [],
   "source": [
    "# The length of the text had no impact on the final label. Both the histograms are almost identical\n",
    "# They are almost normally distributed with right skew.\n",
    "# We shouldn't include the length of the text as a feature\n",
    "# Drop length column\n",
    "df = df.drop('length',axis=1)"
   ]
  },
  {
   "cell_type": "code",
   "execution_count": 135,
   "metadata": {
    "collapsed": true
   },
   "outputs": [],
   "source": [
    "# Build classification model without including the source as the feature"
   ]
  },
  {
   "cell_type": "code",
   "execution_count": 136,
   "metadata": {
    "collapsed": true
   },
   "outputs": [],
   "source": [
    "# Clean the data"
   ]
  },
  {
   "cell_type": "code",
   "execution_count": 157,
   "metadata": {
    "collapsed": true
   },
   "outputs": [],
   "source": [
    "import string\n",
    "from nltk.corpus import stopwords"
   ]
  },
  {
   "cell_type": "code",
   "execution_count": 161,
   "metadata": {
    "collapsed": true
   },
   "outputs": [],
   "source": [
    "def text_process(mess):\n",
    "    \"\"\"\n",
    "    Takes in a string of text, then performs the following:\n",
    "    1. Remove all punctuation\n",
    "    2. Remove all stopwords\n",
    "    3. Returns a list of the cleaned text\n",
    "    \"\"\"\n",
    "    # Check characters to see if they are in punctuation\n",
    "    nopunc = [char for char in mess if char not in string.punctuation]\n",
    "\n",
    "    # Join the characters again to form the string.\n",
    "    nopunc = ''.join(nopunc)\n",
    "    \n",
    "    # Now just remove any stopwords\n",
    "    return [word for word in nopunc.split() if word.lower() not in stopwords.words('english')]"
   ]
  },
  {
   "cell_type": "code",
   "execution_count": 139,
   "metadata": {
    "collapsed": false
   },
   "outputs": [
    {
     "data": {
      "text/plain": [
       "0       [city, Charlotte, passed, bathroom, ordinance,...\n",
       "1       [nine, Democratic, debates, Weve, one, questio...\n",
       "2       [Republicans, still, want, privatize, Social, ...\n",
       "3       [campaign, began, said, weve, got, end, starva...\n",
       "4       [Says, Bernie, Sanders, largely, reliable, sup...\n",
       "5       [remain, one, poorer, members, United, States,...\n",
       "6       [tougher, standards, holding, toy, gun, manufa...\n",
       "7       [Every, bit, plastic, ever, created, still, ex...\n",
       "8       [numbers, better, right, Ronald, Reagans, numb...\n",
       "9       [Says, Hillary, Clinton, supported, continues,...\n",
       "10      [state, highest, per, capita, number, guns, en...\n",
       "11            [Poll, poll, poll, shows, beating, Hillary]\n",
       "12      [Says, Congressional, Budget, Office, expectin...\n",
       "13      [largest, US, companies, would, owe, 620, bill...\n",
       "14      [Says, Hillary, Clinton, voted, virtually, eve...\n",
       "15      [Says, Bernie, Sanders, wants, higher, standar...\n",
       "16      [Says, Hillary, Clinton, saying, lately, think...\n",
       "17      [Many, call, Lyin, Ted, HisTV, ad, John, Kasic...\n",
       "18         [Says, campaign, released, past, tax, returns]\n",
       "19                     [2, half, million, votes, Sanders]\n",
       "20              [rate, uninsured, Americans, 88, percent]\n",
       "21      [China, South, China, Sea, buildinga, military...\n",
       "22                                 [Weve, rebuilt, China]\n",
       "23      [Says, free, public, university, tuition, prog...\n",
       "24                                          [put, emails]\n",
       "25      [Im, candidate, Democratic, primary, actually,...\n",
       "26      [SaysTed, Cruz, distributed, ad, showing, nude...\n",
       "27      [Says, Michelle, Fields, found, security, came...\n",
       "28      [Theres, tremendous, tax, pay, American, busin...\n",
       "29      [comes, fighting, terrorism, Another, thing, k...\n",
       "                              ...                        \n",
       "3850    [Bill, Richardson, passed, first, law, nation,...\n",
       "3851    [1972, 179000, human, beings, jail, country, T...\n",
       "3852    [state, state, polls, make, clear, American, p...\n",
       "3853    [live, time, historically, low, violent, crime...\n",
       "3854    [Im, first, person, really, took, issue, war, ...\n",
       "3855    [know, cant, pull, truth, matter, started, tod...\n",
       "3856                               [president, braindead]\n",
       "3857    [estimated, 56, million, Americans, dont, bank...\n",
       "3858                      [McCain, opposed, ethanol, hes]\n",
       "3859    [McCain, said, opposed, overturning, Roe, v, W...\n",
       "3860    [Hillary, Clinton, setting, deadline, withdraw...\n",
       "3861    [Barack, Obama, supported, keeping, troops, Ir...\n",
       "3862    [Hes, leading, example, refusing, contribution...\n",
       "3863    [study, study, shown, death, penalty, deters, ...\n",
       "3864    [Lets, pay, attention, kids, going, college, e...\n",
       "3865    [Roadside, bombs, responsible, 70, percent, ca...\n",
       "3866    [Barack, Obama, Hillary, Clinton, changed, pos...\n",
       "3867    [Ill, tell, tell, country, want, president, do...\n",
       "3868    [Democrats, kind, falling, seeing, raise, taxe...\n",
       "3869    [Corporate, profits, CEO, pay, average, wages,...\n",
       "3870    [used, tax, cuts, help, create, 80000, jobs, N...\n",
       "3871    [Im, threestate, political, solution, Iraq, Ro...\n",
       "3872    [increase, fuel, efficiency, standards, 40, 45...\n",
       "3873    [China, Japan, surpassed, us, Japanese, cars, ...\n",
       "3874     [New, Mexico, moved, sixth, nation, job, growth]\n",
       "3875    [every, single, scientist, tells, global, warm...\n",
       "3876    [greatest, income, inequality, since, Great, D...\n",
       "3877     [New, Mexico, 46th, teacher, pay, elected, 29th]\n",
       "3878    [Tommy, Thompson, father, welfare, reform, cre...\n",
       "3879    [Tommy, Thompson, created, first, school, choi...\n",
       "Name: text, dtype: object"
      ]
     },
     "execution_count": 139,
     "metadata": {},
     "output_type": "execute_result"
    }
   ],
   "source": [
    "df['text'].apply(text_process)"
   ]
  },
  {
   "cell_type": "code",
   "execution_count": 162,
   "metadata": {
    "collapsed": false
   },
   "outputs": [
    {
     "data": {
      "text/html": [
       "<div>\n",
       "<table border=\"1\" class=\"dataframe\">\n",
       "  <thead>\n",
       "    <tr style=\"text-align: right;\">\n",
       "      <th></th>\n",
       "      <th>source</th>\n",
       "      <th>text</th>\n",
       "      <th>label</th>\n",
       "    </tr>\n",
       "  </thead>\n",
       "  <tbody>\n",
       "    <tr>\n",
       "      <th>0</th>\n",
       "      <td>Pat McCrory</td>\n",
       "      <td>\"The city of Charlotte passed a bathroom ordin...</td>\n",
       "      <td>False</td>\n",
       "    </tr>\n",
       "    <tr>\n",
       "      <th>1</th>\n",
       "      <td>Hillary Clinton</td>\n",
       "      <td>In nine Democratic debates, \"We've not had one...</td>\n",
       "      <td>True</td>\n",
       "    </tr>\n",
       "    <tr>\n",
       "      <th>2</th>\n",
       "      <td>Hillary Clinton</td>\n",
       "      <td>The Republicans \"still want to privatize (Soci...</td>\n",
       "      <td>False</td>\n",
       "    </tr>\n",
       "    <tr>\n",
       "      <th>3</th>\n",
       "      <td>Bernie Sanders</td>\n",
       "      <td>\"When this campaign began, I said that weve go...</td>\n",
       "      <td>True</td>\n",
       "    </tr>\n",
       "    <tr>\n",
       "      <th>4</th>\n",
       "      <td>Hillary Clinton</td>\n",
       "      <td>Says Bernie Sanders \"has been largely a very r...</td>\n",
       "      <td>False</td>\n",
       "    </tr>\n",
       "  </tbody>\n",
       "</table>\n",
       "</div>"
      ],
      "text/plain": [
       "            source                                               text  label\n",
       "0      Pat McCrory  \"The city of Charlotte passed a bathroom ordin...  False\n",
       "1  Hillary Clinton  In nine Democratic debates, \"We've not had one...   True\n",
       "2  Hillary Clinton  The Republicans \"still want to privatize (Soci...  False\n",
       "3   Bernie Sanders  \"When this campaign began, I said that weve go...   True\n",
       "4  Hillary Clinton  Says Bernie Sanders \"has been largely a very r...  False"
      ]
     },
     "execution_count": 162,
     "metadata": {},
     "output_type": "execute_result"
    }
   ],
   "source": [
    "df.head()"
   ]
  },
  {
   "cell_type": "code",
   "execution_count": 163,
   "metadata": {
    "collapsed": false
   },
   "outputs": [
    {
     "data": {
      "text/plain": [
       "(3815, 3)"
      ]
     },
     "execution_count": 163,
     "metadata": {},
     "output_type": "execute_result"
    }
   ],
   "source": [
    "df.shape"
   ]
  },
  {
   "cell_type": "code",
   "execution_count": 141,
   "metadata": {
    "collapsed": true
   },
   "outputs": [],
   "source": [
    "# Convert text to vectors\n",
    "# Bag of words approach\n",
    "from sklearn.feature_extraction.text import CountVectorizer"
   ]
  },
  {
   "cell_type": "code",
   "execution_count": 164,
   "metadata": {
    "collapsed": true
   },
   "outputs": [],
   "source": [
    "bow_transformer = CountVectorizer(analyzer=text_process).fit(df['text'])"
   ]
  },
  {
   "cell_type": "code",
   "execution_count": 165,
   "metadata": {
    "collapsed": false
   },
   "outputs": [
    {
     "name": "stdout",
     "output_type": "stream",
     "text": [
      "Shape of Sparse Matrix:  (3815, 7981)\n",
      "Amount of Non-Zero occurences:  39783\n",
      "sparsity: 0.13%\n"
     ]
    }
   ],
   "source": [
    "text_bow = bow_transformer.transform(df['text'])\n",
    "print 'Shape of Sparse Matrix: ', text_bow.shape\n",
    "print 'Amount of Non-Zero occurences: ', text_bow.nnz\n",
    "print 'sparsity: %.2f%%' % (100.0 * text_bow.nnz / (text_bow.shape[0] * text_bow.shape[1]))"
   ]
  },
  {
   "cell_type": "code",
   "execution_count": 145,
   "metadata": {
    "collapsed": false
   },
   "outputs": [
    {
     "name": "stdout",
     "output_type": "stream",
     "text": [
      "(3815, 7981)\n"
     ]
    }
   ],
   "source": [
    "# Perfrom tf-idf normalization\n",
    "from sklearn.feature_extraction.text import TfidfTransformer\n",
    "\n",
    "text_tfidf = tfidf_transformer.transform(text_bow)\n",
    "print text_tfidf.shape"
   ]
  },
  {
   "cell_type": "code",
   "execution_count": 240,
   "metadata": {
    "collapsed": false
   },
   "outputs": [
    {
     "name": "stdout",
     "output_type": "stream",
     "text": [
      "2670 1145 3815\n"
     ]
    }
   ],
   "source": [
    "# Split into training and test\n",
    "from sklearn.cross_validation import train_test_split\n",
    "\n",
    "text_train, text_test, label_train, label_test = \\\n",
    "train_test_split(df['text'], df['label'], test_size=0.3)\n",
    "\n",
    "print len(text_train), len(text_test), len(text_train) + len(text_test)"
   ]
  },
  {
   "cell_type": "code",
   "execution_count": 152,
   "metadata": {
    "collapsed": true
   },
   "outputs": [],
   "source": [
    "################## Naive Bayes ###################"
   ]
  },
  {
   "cell_type": "code",
   "execution_count": 313,
   "metadata": {
    "collapsed": false
   },
   "outputs": [],
   "source": [
    "# Create a data pipeline\n",
    "from sklearn.pipeline import Pipeline\n",
    "from sklearn.naive_bayes import MultinomialNB\n",
    "from sklearn.linear_model import LogisticRegression\n",
    "from sklearn import svm\n",
    "from sklearn import tree\n",
    "from sklearn.neighbors import KNeighborsClassifier\n",
    "from sklearn.ensemble import RandomForestClassifier \n",
    "\n",
    "pipeline1 = Pipeline([\n",
    "    ('bow', CountVectorizer(analyzer=text_process)),  # strings to token integer counts\n",
    "    ('tfidf', TfidfTransformer()),  # integer counts to weighted TF-IDF scores\n",
    "    ('NVB', MultinomialNB()) # train on TF-IDF vectors w/ Naive Bayes classifier\n",
    "])\n",
    "\n",
    "pipeline2 = Pipeline([\n",
    "    ('bow', CountVectorizer(analyzer=text_process)),  # strings to token integer counts\n",
    "    ('tfidf', TfidfTransformer()),  # integer counts to weighted TF-IDF scores\n",
    "    ('logistic', LogisticRegression()) # train on TF-IDF vectors w/ Logistic Regression\n",
    "])\n",
    "\n",
    "pipeline3 = Pipeline([\n",
    "    ('bow', CountVectorizer(analyzer=text_process)),  # strings to token integer counts\n",
    "    ('tfidf', TfidfTransformer()),  # integer counts to weighted TF-IDF scores\n",
    "    ('svm', svm.SVC(probability=True)) # train on TF-IDF vectors w/ SVM\n",
    "])\n",
    "\n",
    "pipeline4 = Pipeline([\n",
    "    ('bow', CountVectorizer(analyzer=text_process)),  # strings to token integer counts\n",
    "    ('tfidf', TfidfTransformer()),  # integer counts to weighted TF-IDF scores\n",
    "    ('CART', tree.DecisionTreeClassifier()) # train on TF-IDF vectors w/ CART\n",
    "])\n",
    "\n",
    "pipeline5 = Pipeline([\n",
    "    ('bow', CountVectorizer(analyzer=text_process)),  # strings to token integer counts\n",
    "    ('tfidf', TfidfTransformer()),  # integer counts to weighted TF-IDF scores\n",
    "    ('KNN', KNeighborsClassifier()) # train on TF-IDF vectors w/ KNN\n",
    "])\n",
    "\n",
    "pipeline6 = Pipeline([\n",
    "    ('bow', CountVectorizer(analyzer=text_process)),  # strings to token integer counts\n",
    "    ('tfidf', TfidfTransformer()),  # integer counts to weighted TF-IDF scores\n",
    "    ('RF',RandomForestClassifier()) # train on TF-IDF vectors w/ KNN\n",
    "])"
   ]
  },
  {
   "cell_type": "code",
   "execution_count": 242,
   "metadata": {
    "collapsed": true
   },
   "outputs": [],
   "source": [
    "pipeline1.fit(text_train,label_train)\n",
    "predictions1 = pipeline1.predict(text_test)"
   ]
  },
  {
   "cell_type": "code",
   "execution_count": 243,
   "metadata": {
    "collapsed": false
   },
   "outputs": [
    {
     "data": {
      "text/html": [
       "<div>\n",
       "<table border=\"1\" class=\"dataframe\">\n",
       "  <thead>\n",
       "    <tr style=\"text-align: right;\">\n",
       "      <th>Predicted</th>\n",
       "      <th>False</th>\n",
       "      <th>True</th>\n",
       "      <th>All</th>\n",
       "    </tr>\n",
       "    <tr>\n",
       "      <th>True</th>\n",
       "      <th></th>\n",
       "      <th></th>\n",
       "      <th></th>\n",
       "    </tr>\n",
       "  </thead>\n",
       "  <tbody>\n",
       "    <tr>\n",
       "      <th>False</th>\n",
       "      <td>172</td>\n",
       "      <td>322</td>\n",
       "      <td>494</td>\n",
       "    </tr>\n",
       "    <tr>\n",
       "      <th>True</th>\n",
       "      <td>107</td>\n",
       "      <td>544</td>\n",
       "      <td>651</td>\n",
       "    </tr>\n",
       "    <tr>\n",
       "      <th>All</th>\n",
       "      <td>279</td>\n",
       "      <td>866</td>\n",
       "      <td>1145</td>\n",
       "    </tr>\n",
       "  </tbody>\n",
       "</table>\n",
       "</div>"
      ],
      "text/plain": [
       "Predicted  False  True   All\n",
       "True                        \n",
       "False        172   322   494\n",
       "True         107   544   651\n",
       "All          279   866  1145"
      ]
     },
     "execution_count": 243,
     "metadata": {},
     "output_type": "execute_result"
    }
   ],
   "source": [
    "# Confusion Matrix\n",
    "pd.crosstab(label_test,predictions1, rownames=['True'], colnames=['Predicted'], margins=True)"
   ]
  },
  {
   "cell_type": "code",
   "execution_count": 275,
   "metadata": {
    "collapsed": false
   },
   "outputs": [
    {
     "name": "stdout",
     "output_type": "stream",
     "text": [
      "0.625327510917\n"
     ]
    }
   ],
   "source": [
    "print metrics.accuracy_score(label_test, predictions1)"
   ]
  },
  {
   "cell_type": "code",
   "execution_count": 245,
   "metadata": {
    "collapsed": false,
    "scrolled": false
   },
   "outputs": [
    {
     "name": "stdout",
     "output_type": "stream",
     "text": [
      "[[ 0.35893258  0.64106742]\n",
      " [ 0.34055186  0.65944814]\n",
      " [ 0.28289726  0.71710274]\n",
      " ..., \n",
      " [ 0.27054827  0.72945173]\n",
      " [ 0.4405469   0.5594531 ]\n",
      " [ 0.20895161  0.79104839]]\n"
     ]
    }
   ],
   "source": [
    "from sklearn.metrics import roc_curve, auc\n",
    "from sklearn import metrics\n",
    "probs_NB = pipeline1.predict_proba(text_test)\n",
    "print probs_NB"
   ]
  },
  {
   "cell_type": "code",
   "execution_count": null,
   "metadata": {
    "collapsed": true
   },
   "outputs": [],
   "source": [
    "# Convert true false to 1,0 for ROC curve\n",
    "label_test_roc = label_test.copy()\n",
    "label_test_roc"
   ]
  },
  {
   "cell_type": "code",
   "execution_count": 249,
   "metadata": {
    "collapsed": true
   },
   "outputs": [],
   "source": [
    "label_test_roc[label_test_roc=='True'] = 1\n",
    "label_test_roc[label_test_roc=='False'] = 0"
   ]
  },
  {
   "cell_type": "code",
   "execution_count": 279,
   "metadata": {
    "collapsed": false
   },
   "outputs": [
    {
     "name": "stdout",
     "output_type": "stream",
     "text": [
      "ROC AUC of NB: 0.630814007724\n"
     ]
    }
   ],
   "source": [
    "fpr_NB, tpr_NB, _ = roc_curve(label_test_roc, probs_NB[:,1])\n",
    "roc_auc_NB = auc(fpr_NB, tpr_NB)\n",
    "print 'ROC AUC of NB:' ,roc_auc_NB"
   ]
  },
  {
   "cell_type": "code",
   "execution_count": 211,
   "metadata": {
    "collapsed": true
   },
   "outputs": [],
   "source": [
    "########################### Logistic Regression ############################"
   ]
  },
  {
   "cell_type": "code",
   "execution_count": 269,
   "metadata": {
    "collapsed": false
   },
   "outputs": [],
   "source": [
    "pipeline2.fit(text_train,label_train)\n",
    "predictions2 = pipeline2.predict(text_test)"
   ]
  },
  {
   "cell_type": "code",
   "execution_count": 270,
   "metadata": {
    "collapsed": false
   },
   "outputs": [
    {
     "data": {
      "text/html": [
       "<div>\n",
       "<table border=\"1\" class=\"dataframe\">\n",
       "  <thead>\n",
       "    <tr style=\"text-align: right;\">\n",
       "      <th>Predicted</th>\n",
       "      <th>False</th>\n",
       "      <th>True</th>\n",
       "      <th>All</th>\n",
       "    </tr>\n",
       "    <tr>\n",
       "      <th>True</th>\n",
       "      <th></th>\n",
       "      <th></th>\n",
       "      <th></th>\n",
       "    </tr>\n",
       "  </thead>\n",
       "  <tbody>\n",
       "    <tr>\n",
       "      <th>False</th>\n",
       "      <td>218</td>\n",
       "      <td>276</td>\n",
       "      <td>494</td>\n",
       "    </tr>\n",
       "    <tr>\n",
       "      <th>True</th>\n",
       "      <td>161</td>\n",
       "      <td>490</td>\n",
       "      <td>651</td>\n",
       "    </tr>\n",
       "    <tr>\n",
       "      <th>All</th>\n",
       "      <td>379</td>\n",
       "      <td>766</td>\n",
       "      <td>1145</td>\n",
       "    </tr>\n",
       "  </tbody>\n",
       "</table>\n",
       "</div>"
      ],
      "text/plain": [
       "Predicted  False  True   All\n",
       "True                        \n",
       "False        218   276   494\n",
       "True         161   490   651\n",
       "All          379   766  1145"
      ]
     },
     "execution_count": 270,
     "metadata": {},
     "output_type": "execute_result"
    }
   ],
   "source": [
    "# Confusion Matrix\n",
    "pd.crosstab(label_test,predictions2, rownames=['True'], colnames=['Predicted'], margins=True)"
   ]
  },
  {
   "cell_type": "code",
   "execution_count": 276,
   "metadata": {
    "collapsed": false
   },
   "outputs": [
    {
     "name": "stdout",
     "output_type": "stream",
     "text": [
      "0.618340611354\n"
     ]
    }
   ],
   "source": [
    "print metrics.accuracy_score(label_test, predictions2)"
   ]
  },
  {
   "cell_type": "code",
   "execution_count": 272,
   "metadata": {
    "collapsed": false
   },
   "outputs": [
    {
     "name": "stdout",
     "output_type": "stream",
     "text": [
      "[[ 0.43615817  0.56384183]\n",
      " [ 0.44758518  0.55241482]\n",
      " [ 0.35196542  0.64803458]\n",
      " ..., \n",
      " [ 0.30483379  0.69516621]\n",
      " [ 0.47758967  0.52241033]\n",
      " [ 0.31078674  0.68921326]]\n"
     ]
    }
   ],
   "source": [
    "# generate class probabilities\n",
    "probs_LG = pipeline2.predict_proba(text_test)\n",
    "print probs_LG"
   ]
  },
  {
   "cell_type": "code",
   "execution_count": 278,
   "metadata": {
    "collapsed": false
   },
   "outputs": [
    {
     "name": "stdout",
     "output_type": "stream",
     "text": [
      "ROC AUC of LG: 0.633087060082\n"
     ]
    }
   ],
   "source": [
    "fpr_LG, tpr_LG, _ = roc_curve(label_test_roc, probs_LG[:,1])\n",
    "roc_auc_LG = auc(fpr_LG, tpr_LG)\n",
    "print 'ROC AUC of LG:' ,roc_auc_LG"
   ]
  },
  {
   "cell_type": "code",
   "execution_count": null,
   "metadata": {
    "collapsed": true
   },
   "outputs": [],
   "source": [
    "####################### Support Vector Machines ##############################"
   ]
  },
  {
   "cell_type": "code",
   "execution_count": 284,
   "metadata": {
    "collapsed": true
   },
   "outputs": [],
   "source": [
    "pipeline3.fit(text_train,label_train)\n",
    "predictions3 = pipeline3.predict(text_test)"
   ]
  },
  {
   "cell_type": "code",
   "execution_count": 285,
   "metadata": {
    "collapsed": false
   },
   "outputs": [
    {
     "data": {
      "text/html": [
       "<div>\n",
       "<table border=\"1\" class=\"dataframe\">\n",
       "  <thead>\n",
       "    <tr style=\"text-align: right;\">\n",
       "      <th>Predicted</th>\n",
       "      <th>True</th>\n",
       "      <th>All</th>\n",
       "    </tr>\n",
       "    <tr>\n",
       "      <th>True</th>\n",
       "      <th></th>\n",
       "      <th></th>\n",
       "    </tr>\n",
       "  </thead>\n",
       "  <tbody>\n",
       "    <tr>\n",
       "      <th>False</th>\n",
       "      <td>494</td>\n",
       "      <td>494</td>\n",
       "    </tr>\n",
       "    <tr>\n",
       "      <th>True</th>\n",
       "      <td>651</td>\n",
       "      <td>651</td>\n",
       "    </tr>\n",
       "    <tr>\n",
       "      <th>All</th>\n",
       "      <td>1145</td>\n",
       "      <td>1145</td>\n",
       "    </tr>\n",
       "  </tbody>\n",
       "</table>\n",
       "</div>"
      ],
      "text/plain": [
       "Predicted  True   All\n",
       "True                 \n",
       "False       494   494\n",
       "True        651   651\n",
       "All        1145  1145"
      ]
     },
     "execution_count": 285,
     "metadata": {},
     "output_type": "execute_result"
    }
   ],
   "source": [
    "# Confusion Matrix\n",
    "pd.crosstab(label_test,predictions3, rownames=['True'], colnames=['Predicted'], margins=True)"
   ]
  },
  {
   "cell_type": "code",
   "execution_count": 286,
   "metadata": {
    "collapsed": false
   },
   "outputs": [
    {
     "name": "stdout",
     "output_type": "stream",
     "text": [
      "0.568558951965\n"
     ]
    }
   ],
   "source": [
    "print metrics.accuracy_score(label_test, predictions3)"
   ]
  },
  {
   "cell_type": "code",
   "execution_count": 287,
   "metadata": {
    "collapsed": false
   },
   "outputs": [
    {
     "name": "stdout",
     "output_type": "stream",
     "text": [
      "[[ 0.35810684  0.64189316]\n",
      " [ 0.47222931  0.52777069]\n",
      " [ 0.38308746  0.61691254]\n",
      " ..., \n",
      " [ 0.34271835  0.65728165]\n",
      " [ 0.42202651  0.57797349]\n",
      " [ 0.30209889  0.69790111]]\n"
     ]
    }
   ],
   "source": [
    "# generate class probabilities\n",
    "probs_SVM = pipeline3.predict_proba(text_test)\n",
    "print probs_SVM"
   ]
  },
  {
   "cell_type": "code",
   "execution_count": 288,
   "metadata": {
    "collapsed": false
   },
   "outputs": [
    {
     "name": "stdout",
     "output_type": "stream",
     "text": [
      "ROC AUC of SVM: 0.634119417651\n"
     ]
    }
   ],
   "source": [
    "fpr_SVM, tpr_SVM, _ = roc_curve(label_test_roc, probs_SVM[:,1])\n",
    "roc_auc_SVM = auc(fpr_SVM, tpr_SVM)\n",
    "print 'ROC AUC of SVM:' ,roc_auc_SVM"
   ]
  },
  {
   "cell_type": "code",
   "execution_count": null,
   "metadata": {
    "collapsed": true
   },
   "outputs": [],
   "source": [
    "########################## Decision Trees ############################"
   ]
  },
  {
   "cell_type": "code",
   "execution_count": 329,
   "metadata": {
    "collapsed": true
   },
   "outputs": [],
   "source": [
    "pipeline4.fit(text_train,label_train)\n",
    "predictions4 = pipeline4.predict(text_test)"
   ]
  },
  {
   "cell_type": "code",
   "execution_count": 330,
   "metadata": {
    "collapsed": false
   },
   "outputs": [
    {
     "data": {
      "text/html": [
       "<div>\n",
       "<table border=\"1\" class=\"dataframe\">\n",
       "  <thead>\n",
       "    <tr style=\"text-align: right;\">\n",
       "      <th>Predicted</th>\n",
       "      <th>False</th>\n",
       "      <th>True</th>\n",
       "      <th>All</th>\n",
       "    </tr>\n",
       "    <tr>\n",
       "      <th>True</th>\n",
       "      <th></th>\n",
       "      <th></th>\n",
       "      <th></th>\n",
       "    </tr>\n",
       "  </thead>\n",
       "  <tbody>\n",
       "    <tr>\n",
       "      <th>False</th>\n",
       "      <td>232</td>\n",
       "      <td>262</td>\n",
       "      <td>494</td>\n",
       "    </tr>\n",
       "    <tr>\n",
       "      <th>True</th>\n",
       "      <td>278</td>\n",
       "      <td>373</td>\n",
       "      <td>651</td>\n",
       "    </tr>\n",
       "    <tr>\n",
       "      <th>All</th>\n",
       "      <td>510</td>\n",
       "      <td>635</td>\n",
       "      <td>1145</td>\n",
       "    </tr>\n",
       "  </tbody>\n",
       "</table>\n",
       "</div>"
      ],
      "text/plain": [
       "Predicted  False  True   All\n",
       "True                        \n",
       "False        232   262   494\n",
       "True         278   373   651\n",
       "All          510   635  1145"
      ]
     },
     "execution_count": 330,
     "metadata": {},
     "output_type": "execute_result"
    }
   ],
   "source": [
    "# Confusion Matrix\n",
    "pd.crosstab(label_test,predictions4, rownames=['True'], colnames=['Predicted'], margins=True)"
   ]
  },
  {
   "cell_type": "code",
   "execution_count": 331,
   "metadata": {
    "collapsed": false
   },
   "outputs": [
    {
     "name": "stdout",
     "output_type": "stream",
     "text": [
      "[[ 1.  0.]\n",
      " [ 1.  0.]\n",
      " [ 0.  1.]\n",
      " ..., \n",
      " [ 0.  1.]\n",
      " [ 0.  1.]\n",
      " [ 0.  1.]]\n"
     ]
    }
   ],
   "source": [
    "# generate class probabilities\n",
    "probs_DT = pipeline4.predict_proba(text_test)\n",
    "print probs_DT"
   ]
  },
  {
   "cell_type": "code",
   "execution_count": 332,
   "metadata": {
    "collapsed": false
   },
   "outputs": [
    {
     "name": "stdout",
     "output_type": "stream",
     "text": [
      "0.528384279476\n"
     ]
    }
   ],
   "source": [
    "print metrics.accuracy_score(label_test, predictions4)"
   ]
  },
  {
   "cell_type": "code",
   "execution_count": 333,
   "metadata": {
    "collapsed": false
   },
   "outputs": [
    {
     "name": "stdout",
     "output_type": "stream",
     "text": [
      "ROC AUC of DT: 0.521300148635\n"
     ]
    }
   ],
   "source": [
    "fpr_DT, tpr_DT, _ = roc_curve(label_test_roc, probs_DT[:,1])\n",
    "roc_auc_DT = auc(fpr_DT, tpr_DT)\n",
    "print 'ROC AUC of DT:' ,roc_auc_DT"
   ]
  },
  {
   "cell_type": "code",
   "execution_count": null,
   "metadata": {
    "collapsed": true
   },
   "outputs": [],
   "source": [
    "######################## K-nearest neighbours ###########################"
   ]
  },
  {
   "cell_type": "code",
   "execution_count": 305,
   "metadata": {
    "collapsed": false
   },
   "outputs": [],
   "source": [
    "n_neighbors=2\n",
    "pipeline5.fit(text_train,label_train)\n",
    "predictions5 = pipeline5.predict(text_test)"
   ]
  },
  {
   "cell_type": "code",
   "execution_count": 306,
   "metadata": {
    "collapsed": false
   },
   "outputs": [
    {
     "data": {
      "text/html": [
       "<div>\n",
       "<table border=\"1\" class=\"dataframe\">\n",
       "  <thead>\n",
       "    <tr style=\"text-align: right;\">\n",
       "      <th>Predicted</th>\n",
       "      <th>False</th>\n",
       "      <th>True</th>\n",
       "      <th>All</th>\n",
       "    </tr>\n",
       "    <tr>\n",
       "      <th>True</th>\n",
       "      <th></th>\n",
       "      <th></th>\n",
       "      <th></th>\n",
       "    </tr>\n",
       "  </thead>\n",
       "  <tbody>\n",
       "    <tr>\n",
       "      <th>False</th>\n",
       "      <td>236</td>\n",
       "      <td>258</td>\n",
       "      <td>494</td>\n",
       "    </tr>\n",
       "    <tr>\n",
       "      <th>True</th>\n",
       "      <td>236</td>\n",
       "      <td>415</td>\n",
       "      <td>651</td>\n",
       "    </tr>\n",
       "    <tr>\n",
       "      <th>All</th>\n",
       "      <td>472</td>\n",
       "      <td>673</td>\n",
       "      <td>1145</td>\n",
       "    </tr>\n",
       "  </tbody>\n",
       "</table>\n",
       "</div>"
      ],
      "text/plain": [
       "Predicted  False  True   All\n",
       "True                        \n",
       "False        236   258   494\n",
       "True         236   415   651\n",
       "All          472   673  1145"
      ]
     },
     "execution_count": 306,
     "metadata": {},
     "output_type": "execute_result"
    }
   ],
   "source": [
    "# Confusion Matrix\n",
    "pd.crosstab(label_test,predictions5, rownames=['True'], colnames=['Predicted'], margins=True)"
   ]
  },
  {
   "cell_type": "code",
   "execution_count": 307,
   "metadata": {
    "collapsed": false
   },
   "outputs": [
    {
     "name": "stdout",
     "output_type": "stream",
     "text": [
      "0.568558951965\n"
     ]
    }
   ],
   "source": [
    "print metrics.accuracy_score(label_test, predictions5)"
   ]
  },
  {
   "cell_type": "code",
   "execution_count": 308,
   "metadata": {
    "collapsed": false
   },
   "outputs": [
    {
     "name": "stdout",
     "output_type": "stream",
     "text": [
      "[[ 0.2  0.8]\n",
      " [ 0.2  0.8]\n",
      " [ 0.8  0.2]\n",
      " ..., \n",
      " [ 0.2  0.8]\n",
      " [ 0.2  0.8]\n",
      " [ 0.   1. ]]\n"
     ]
    }
   ],
   "source": [
    "# generate class probabilities\n",
    "probs_KNN = pipeline5.predict_proba(text_test)\n",
    "print probs_KNN"
   ]
  },
  {
   "cell_type": "code",
   "execution_count": 310,
   "metadata": {
    "collapsed": false
   },
   "outputs": [
    {
     "name": "stdout",
     "output_type": "stream",
     "text": [
      "ROC AUC of KNN: 0.591315447428\n"
     ]
    }
   ],
   "source": [
    "fpr_KNN, tpr_KNN, _ = roc_curve(label_test_roc, probs_KNN[:,1])\n",
    "roc_auc_KNN = auc(fpr_KNN, tpr_KNN)\n",
    "print 'ROC AUC of KNN:' ,roc_auc_KNN"
   ]
  },
  {
   "cell_type": "code",
   "execution_count": 312,
   "metadata": {
    "collapsed": true
   },
   "outputs": [],
   "source": [
    "############################### Random Forest ####################################"
   ]
  },
  {
   "cell_type": "code",
   "execution_count": 316,
   "metadata": {
    "collapsed": true
   },
   "outputs": [],
   "source": [
    "n_estimators = 100\n",
    "pipeline6.fit(text_train,label_train)\n",
    "predictions6 = pipeline6.predict(text_test)"
   ]
  },
  {
   "cell_type": "code",
   "execution_count": 317,
   "metadata": {
    "collapsed": false
   },
   "outputs": [
    {
     "data": {
      "text/html": [
       "<div>\n",
       "<table border=\"1\" class=\"dataframe\">\n",
       "  <thead>\n",
       "    <tr style=\"text-align: right;\">\n",
       "      <th>Predicted</th>\n",
       "      <th>False</th>\n",
       "      <th>True</th>\n",
       "      <th>All</th>\n",
       "    </tr>\n",
       "    <tr>\n",
       "      <th>True</th>\n",
       "      <th></th>\n",
       "      <th></th>\n",
       "      <th></th>\n",
       "    </tr>\n",
       "  </thead>\n",
       "  <tbody>\n",
       "    <tr>\n",
       "      <th>False</th>\n",
       "      <td>261</td>\n",
       "      <td>233</td>\n",
       "      <td>494</td>\n",
       "    </tr>\n",
       "    <tr>\n",
       "      <th>True</th>\n",
       "      <td>282</td>\n",
       "      <td>369</td>\n",
       "      <td>651</td>\n",
       "    </tr>\n",
       "    <tr>\n",
       "      <th>All</th>\n",
       "      <td>543</td>\n",
       "      <td>602</td>\n",
       "      <td>1145</td>\n",
       "    </tr>\n",
       "  </tbody>\n",
       "</table>\n",
       "</div>"
      ],
      "text/plain": [
       "Predicted  False  True   All\n",
       "True                        \n",
       "False        261   233   494\n",
       "True         282   369   651\n",
       "All          543   602  1145"
      ]
     },
     "execution_count": 317,
     "metadata": {},
     "output_type": "execute_result"
    }
   ],
   "source": [
    "# Confusion Matrix\n",
    "pd.crosstab(label_test,predictions6, rownames=['True'], colnames=['Predicted'], margins=True)"
   ]
  },
  {
   "cell_type": "code",
   "execution_count": 318,
   "metadata": {
    "collapsed": false
   },
   "outputs": [
    {
     "name": "stdout",
     "output_type": "stream",
     "text": [
      "0.550218340611\n"
     ]
    }
   ],
   "source": [
    "print metrics.accuracy_score(label_test, predictions6)"
   ]
  },
  {
   "cell_type": "code",
   "execution_count": 319,
   "metadata": {
    "collapsed": false
   },
   "outputs": [
    {
     "name": "stdout",
     "output_type": "stream",
     "text": [
      "[[ 0.4  0.6]\n",
      " [ 0.7  0.3]\n",
      " [ 0.6  0.4]\n",
      " ..., \n",
      " [ 0.3  0.7]\n",
      " [ 0.5  0.5]\n",
      " [ 0.1  0.9]]\n"
     ]
    }
   ],
   "source": [
    "# generate class probabilities\n",
    "probs_RF = pipeline6.predict_proba(text_test)\n",
    "print probs_RF"
   ]
  },
  {
   "cell_type": "code",
   "execution_count": 321,
   "metadata": {
    "collapsed": false
   },
   "outputs": [
    {
     "name": "stdout",
     "output_type": "stream",
     "text": [
      " ROC AUC of RF: 0.568631566509\n"
     ]
    }
   ],
   "source": [
    "fpr_RF, tpr_RF, _ = roc_curve(label_test_roc, probs_RF[:,1])\n",
    "roc_auc_RF = auc(fpr_RF, tpr_RF)\n",
    "print 'ROC AUC of RF:' ,roc_auc_RF"
   ]
  },
  {
   "cell_type": "code",
   "execution_count": 311,
   "metadata": {
    "collapsed": true
   },
   "outputs": [],
   "source": [
    "######################### ROC Curve #####################"
   ]
  },
  {
   "cell_type": "code",
   "execution_count": 334,
   "metadata": {
    "collapsed": false
   },
   "outputs": [
    {
     "data": {
      "image/png": "[encoded data removed]",
      "text/plain": [
       "<matplotlib.figure.Figure at 0x23df4cf8>"
      ]
     },
     "metadata": {},
     "output_type": "display_data"
    }
   ],
   "source": [
    "import matplotlib.pyplot as plt\n",
    "plt.figure()\n",
    "plt.plot(fpr_LG, tpr_LG, label='LG(area = %f)' % roc_auc_LG)\n",
    "plt.plot(fpr_SVM, tpr_SVM, label='SVM(area = %f)' % roc_auc_SVM)\n",
    "plt.plot(fpr_NB, tpr_NB, label='NB(area = %f)' % roc_auc_NB)\n",
    "plt.plot(fpr_DT, tpr_DT, label='DT(area = %f)' % roc_auc_DT)\n",
    "plt.plot(fpr_KNN, tpr_KNN, label='KNN(area = %f)' % roc_auc_KNN)\n",
    "plt.plot(fpr_RF, tpr_RF, label='RF(area = %f)' % roc_auc_RF)\n",
    "plt.plot([0, 1], [0, 1], 'k--')\n",
    "plt.xlim([0.0, 1.0])\n",
    "plt.ylim([0.0, 1.05])\n",
    "plt.xlabel('False Positive Rate')\n",
    "plt.ylabel('True Positive Rate')\n",
    "plt.title('ROC Curve')\n",
    "plt.legend(loc=\"lower right\")\n",
    "plt.show()"
   ]
  },
  {
   "cell_type": "code",
   "execution_count": null,
   "metadata": {
    "collapsed": true
   },
   "outputs": [],
   "source": [
    "# Try Ensemble classifiers\n",
    "#eclf = EnsembleClassifier(clfs=[clf1, clf2, clf3], weights=[1,1,1])"
   ]
  }
 ],
 "metadata": {
  "kernelspec": {
   "display_name": "Python 2",
   "language": "python",
   "name": "python2"
  },
  "language_info": {
   "codemirror_mode": {
    "name": "ipython",
    "version": 2.0
   },
   "file_extension": ".py",
   "mimetype": "text/x-python",
   "name": "python",
   "nbconvert_exporter": "python",
   "pygments_lexer": "ipython2",
   "version": "2.7.11"
  }
 },
 "nbformat": 4,
 "nbformat_minor": 0
}